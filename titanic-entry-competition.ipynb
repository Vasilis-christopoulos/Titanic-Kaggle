{
 "cells": [
  {
   "cell_type": "code",
   "execution_count": 1,
   "id": "fe756083",
   "metadata": {
    "_cell_guid": "b1076dfc-b9ad-4769-8c92-a6c4dae69d19",
    "_uuid": "8f2839f25d086af736a60e9eeb907d3b93b6e0e5",
    "execution": {
     "iopub.execute_input": "2024-03-11T01:01:16.685442Z",
     "iopub.status.busy": "2024-03-11T01:01:16.684999Z",
     "iopub.status.idle": "2024-03-11T01:01:19.059278Z",
     "shell.execute_reply": "2024-03-11T01:01:19.057851Z"
    },
    "papermill": {
     "duration": 2.387415,
     "end_time": "2024-03-11T01:01:19.061827",
     "exception": false,
     "start_time": "2024-03-11T01:01:16.674412",
     "status": "completed"
    },
    "tags": []
   },
   "outputs": [
    {
     "name": "stdout",
     "output_type": "stream",
     "text": [
      "/kaggle/input/titanic/train.csv\n",
      "/kaggle/input/titanic/test.csv\n",
      "/kaggle/input/titanic/gender_submission.csv\n"
     ]
    }
   ],
   "source": [
    "# This Python 3 environment comes with many helpful analytics libraries installed\n",
    "# It is defined by the kaggle/python Docker image: https://github.com/kaggle/docker-python\n",
    "# For example, here's several helpful packages to load\n",
    "\n",
    "import numpy as np # linear algebra\n",
    "import pandas as pd # data processing, CSV file I/O (e.g. pd.read_csv)\n",
    "\n",
    "import matplotlib.pyplot as plt\n",
    "import seaborn as sns\n",
    "\n",
    "# Input data files are available in the read-only \"../input/\" directory\n",
    "# For example, running this (by clicking run or pressing Shift+Enter) will list all files under the input directory\n",
    "\n",
    "import os\n",
    "for dirname, _, filenames in os.walk('/kaggle/input'):\n",
    "    for filename in filenames:\n",
    "        print(os.path.join(dirname, filename))\n",
    "\n",
    "# You can write up to 20GB to the current directory (/kaggle/working/) that gets preserved as output when you create a version using \"Save & Run All\" \n",
    "# You can also write temporary files to /kaggle/temp/, but they won't be saved outside of the current session"
   ]
  },
  {
   "cell_type": "code",
   "execution_count": 2,
   "id": "f7176b82",
   "metadata": {
    "execution": {
     "iopub.execute_input": "2024-03-11T01:01:19.081881Z",
     "iopub.status.busy": "2024-03-11T01:01:19.081351Z",
     "iopub.status.idle": "2024-03-11T01:01:19.119286Z",
     "shell.execute_reply": "2024-03-11T01:01:19.118111Z"
    },
    "papermill": {
     "duration": 0.050919,
     "end_time": "2024-03-11T01:01:19.121571",
     "exception": false,
     "start_time": "2024-03-11T01:01:19.070652",
     "status": "completed"
    },
    "tags": []
   },
   "outputs": [
    {
     "data": {
      "text/html": [
       "<div>\n",
       "<style scoped>\n",
       "    .dataframe tbody tr th:only-of-type {\n",
       "        vertical-align: middle;\n",
       "    }\n",
       "\n",
       "    .dataframe tbody tr th {\n",
       "        vertical-align: top;\n",
       "    }\n",
       "\n",
       "    .dataframe thead th {\n",
       "        text-align: right;\n",
       "    }\n",
       "</style>\n",
       "<table border=\"1\" class=\"dataframe\">\n",
       "  <thead>\n",
       "    <tr style=\"text-align: right;\">\n",
       "      <th></th>\n",
       "      <th>PassengerId</th>\n",
       "      <th>Survived</th>\n",
       "      <th>Pclass</th>\n",
       "      <th>Name</th>\n",
       "      <th>Sex</th>\n",
       "      <th>Age</th>\n",
       "      <th>SibSp</th>\n",
       "      <th>Parch</th>\n",
       "      <th>Ticket</th>\n",
       "      <th>Fare</th>\n",
       "      <th>Cabin</th>\n",
       "      <th>Embarked</th>\n",
       "    </tr>\n",
       "  </thead>\n",
       "  <tbody>\n",
       "    <tr>\n",
       "      <th>0</th>\n",
       "      <td>1</td>\n",
       "      <td>0</td>\n",
       "      <td>3</td>\n",
       "      <td>Braund, Mr. Owen Harris</td>\n",
       "      <td>male</td>\n",
       "      <td>22.0</td>\n",
       "      <td>1</td>\n",
       "      <td>0</td>\n",
       "      <td>A/5 21171</td>\n",
       "      <td>7.2500</td>\n",
       "      <td>NaN</td>\n",
       "      <td>S</td>\n",
       "    </tr>\n",
       "    <tr>\n",
       "      <th>1</th>\n",
       "      <td>2</td>\n",
       "      <td>1</td>\n",
       "      <td>1</td>\n",
       "      <td>Cumings, Mrs. John Bradley (Florence Briggs Th...</td>\n",
       "      <td>female</td>\n",
       "      <td>38.0</td>\n",
       "      <td>1</td>\n",
       "      <td>0</td>\n",
       "      <td>PC 17599</td>\n",
       "      <td>71.2833</td>\n",
       "      <td>C85</td>\n",
       "      <td>C</td>\n",
       "    </tr>\n",
       "    <tr>\n",
       "      <th>2</th>\n",
       "      <td>3</td>\n",
       "      <td>1</td>\n",
       "      <td>3</td>\n",
       "      <td>Heikkinen, Miss. Laina</td>\n",
       "      <td>female</td>\n",
       "      <td>26.0</td>\n",
       "      <td>0</td>\n",
       "      <td>0</td>\n",
       "      <td>STON/O2. 3101282</td>\n",
       "      <td>7.9250</td>\n",
       "      <td>NaN</td>\n",
       "      <td>S</td>\n",
       "    </tr>\n",
       "    <tr>\n",
       "      <th>3</th>\n",
       "      <td>4</td>\n",
       "      <td>1</td>\n",
       "      <td>1</td>\n",
       "      <td>Futrelle, Mrs. Jacques Heath (Lily May Peel)</td>\n",
       "      <td>female</td>\n",
       "      <td>35.0</td>\n",
       "      <td>1</td>\n",
       "      <td>0</td>\n",
       "      <td>113803</td>\n",
       "      <td>53.1000</td>\n",
       "      <td>C123</td>\n",
       "      <td>S</td>\n",
       "    </tr>\n",
       "    <tr>\n",
       "      <th>4</th>\n",
       "      <td>5</td>\n",
       "      <td>0</td>\n",
       "      <td>3</td>\n",
       "      <td>Allen, Mr. William Henry</td>\n",
       "      <td>male</td>\n",
       "      <td>35.0</td>\n",
       "      <td>0</td>\n",
       "      <td>0</td>\n",
       "      <td>373450</td>\n",
       "      <td>8.0500</td>\n",
       "      <td>NaN</td>\n",
       "      <td>S</td>\n",
       "    </tr>\n",
       "  </tbody>\n",
       "</table>\n",
       "</div>"
      ],
      "text/plain": [
       "   PassengerId  Survived  Pclass  \\\n",
       "0            1         0       3   \n",
       "1            2         1       1   \n",
       "2            3         1       3   \n",
       "3            4         1       1   \n",
       "4            5         0       3   \n",
       "\n",
       "                                                Name     Sex   Age  SibSp  \\\n",
       "0                            Braund, Mr. Owen Harris    male  22.0      1   \n",
       "1  Cumings, Mrs. John Bradley (Florence Briggs Th...  female  38.0      1   \n",
       "2                             Heikkinen, Miss. Laina  female  26.0      0   \n",
       "3       Futrelle, Mrs. Jacques Heath (Lily May Peel)  female  35.0      1   \n",
       "4                           Allen, Mr. William Henry    male  35.0      0   \n",
       "\n",
       "   Parch            Ticket     Fare Cabin Embarked  \n",
       "0      0         A/5 21171   7.2500   NaN        S  \n",
       "1      0          PC 17599  71.2833   C85        C  \n",
       "2      0  STON/O2. 3101282   7.9250   NaN        S  \n",
       "3      0            113803  53.1000  C123        S  \n",
       "4      0            373450   8.0500   NaN        S  "
      ]
     },
     "execution_count": 2,
     "metadata": {},
     "output_type": "execute_result"
    }
   ],
   "source": [
    "train_data = pd.read_csv(\"/kaggle/input/titanic/train.csv\")\n",
    "train_data.head()"
   ]
  },
  {
   "cell_type": "code",
   "execution_count": 3,
   "id": "882565d1",
   "metadata": {
    "execution": {
     "iopub.execute_input": "2024-03-11T01:01:19.141474Z",
     "iopub.status.busy": "2024-03-11T01:01:19.140923Z",
     "iopub.status.idle": "2024-03-11T01:01:19.161945Z",
     "shell.execute_reply": "2024-03-11T01:01:19.160787Z"
    },
    "papermill": {
     "duration": 0.033789,
     "end_time": "2024-03-11T01:01:19.164343",
     "exception": false,
     "start_time": "2024-03-11T01:01:19.130554",
     "status": "completed"
    },
    "tags": []
   },
   "outputs": [
    {
     "data": {
      "text/html": [
       "<div>\n",
       "<style scoped>\n",
       "    .dataframe tbody tr th:only-of-type {\n",
       "        vertical-align: middle;\n",
       "    }\n",
       "\n",
       "    .dataframe tbody tr th {\n",
       "        vertical-align: top;\n",
       "    }\n",
       "\n",
       "    .dataframe thead th {\n",
       "        text-align: right;\n",
       "    }\n",
       "</style>\n",
       "<table border=\"1\" class=\"dataframe\">\n",
       "  <thead>\n",
       "    <tr style=\"text-align: right;\">\n",
       "      <th></th>\n",
       "      <th>PassengerId</th>\n",
       "      <th>Pclass</th>\n",
       "      <th>Name</th>\n",
       "      <th>Sex</th>\n",
       "      <th>Age</th>\n",
       "      <th>SibSp</th>\n",
       "      <th>Parch</th>\n",
       "      <th>Ticket</th>\n",
       "      <th>Fare</th>\n",
       "      <th>Cabin</th>\n",
       "      <th>Embarked</th>\n",
       "    </tr>\n",
       "  </thead>\n",
       "  <tbody>\n",
       "    <tr>\n",
       "      <th>0</th>\n",
       "      <td>892</td>\n",
       "      <td>3</td>\n",
       "      <td>Kelly, Mr. James</td>\n",
       "      <td>male</td>\n",
       "      <td>34.5</td>\n",
       "      <td>0</td>\n",
       "      <td>0</td>\n",
       "      <td>330911</td>\n",
       "      <td>7.8292</td>\n",
       "      <td>NaN</td>\n",
       "      <td>Q</td>\n",
       "    </tr>\n",
       "    <tr>\n",
       "      <th>1</th>\n",
       "      <td>893</td>\n",
       "      <td>3</td>\n",
       "      <td>Wilkes, Mrs. James (Ellen Needs)</td>\n",
       "      <td>female</td>\n",
       "      <td>47.0</td>\n",
       "      <td>1</td>\n",
       "      <td>0</td>\n",
       "      <td>363272</td>\n",
       "      <td>7.0000</td>\n",
       "      <td>NaN</td>\n",
       "      <td>S</td>\n",
       "    </tr>\n",
       "    <tr>\n",
       "      <th>2</th>\n",
       "      <td>894</td>\n",
       "      <td>2</td>\n",
       "      <td>Myles, Mr. Thomas Francis</td>\n",
       "      <td>male</td>\n",
       "      <td>62.0</td>\n",
       "      <td>0</td>\n",
       "      <td>0</td>\n",
       "      <td>240276</td>\n",
       "      <td>9.6875</td>\n",
       "      <td>NaN</td>\n",
       "      <td>Q</td>\n",
       "    </tr>\n",
       "    <tr>\n",
       "      <th>3</th>\n",
       "      <td>895</td>\n",
       "      <td>3</td>\n",
       "      <td>Wirz, Mr. Albert</td>\n",
       "      <td>male</td>\n",
       "      <td>27.0</td>\n",
       "      <td>0</td>\n",
       "      <td>0</td>\n",
       "      <td>315154</td>\n",
       "      <td>8.6625</td>\n",
       "      <td>NaN</td>\n",
       "      <td>S</td>\n",
       "    </tr>\n",
       "    <tr>\n",
       "      <th>4</th>\n",
       "      <td>896</td>\n",
       "      <td>3</td>\n",
       "      <td>Hirvonen, Mrs. Alexander (Helga E Lindqvist)</td>\n",
       "      <td>female</td>\n",
       "      <td>22.0</td>\n",
       "      <td>1</td>\n",
       "      <td>1</td>\n",
       "      <td>3101298</td>\n",
       "      <td>12.2875</td>\n",
       "      <td>NaN</td>\n",
       "      <td>S</td>\n",
       "    </tr>\n",
       "  </tbody>\n",
       "</table>\n",
       "</div>"
      ],
      "text/plain": [
       "   PassengerId  Pclass                                          Name     Sex  \\\n",
       "0          892       3                              Kelly, Mr. James    male   \n",
       "1          893       3              Wilkes, Mrs. James (Ellen Needs)  female   \n",
       "2          894       2                     Myles, Mr. Thomas Francis    male   \n",
       "3          895       3                              Wirz, Mr. Albert    male   \n",
       "4          896       3  Hirvonen, Mrs. Alexander (Helga E Lindqvist)  female   \n",
       "\n",
       "    Age  SibSp  Parch   Ticket     Fare Cabin Embarked  \n",
       "0  34.5      0      0   330911   7.8292   NaN        Q  \n",
       "1  47.0      1      0   363272   7.0000   NaN        S  \n",
       "2  62.0      0      0   240276   9.6875   NaN        Q  \n",
       "3  27.0      0      0   315154   8.6625   NaN        S  \n",
       "4  22.0      1      1  3101298  12.2875   NaN        S  "
      ]
     },
     "execution_count": 3,
     "metadata": {},
     "output_type": "execute_result"
    }
   ],
   "source": [
    "test_data = pd.read_csv(\"/kaggle/input/titanic/test.csv\")\n",
    "test_data.head()"
   ]
  },
  {
   "cell_type": "markdown",
   "id": "deda5a25",
   "metadata": {
    "papermill": {
     "duration": 0.010415,
     "end_time": "2024-03-11T01:01:19.184144",
     "exception": false,
     "start_time": "2024-03-11T01:01:19.173729",
     "status": "completed"
    },
    "tags": []
   },
   "source": [
    "**DATA CLEANING**\n",
    "\n",
    "Get info about the data. (look at variable types, check for missing values, duplicates, outliers etc.)"
   ]
  },
  {
   "cell_type": "code",
   "execution_count": 4,
   "id": "f5e9b4b9",
   "metadata": {
    "execution": {
     "iopub.execute_input": "2024-03-11T01:01:19.204584Z",
     "iopub.status.busy": "2024-03-11T01:01:19.204022Z",
     "iopub.status.idle": "2024-03-11T01:01:19.235259Z",
     "shell.execute_reply": "2024-03-11T01:01:19.233425Z"
    },
    "papermill": {
     "duration": 0.043927,
     "end_time": "2024-03-11T01:01:19.237338",
     "exception": false,
     "start_time": "2024-03-11T01:01:19.193411",
     "status": "completed"
    },
    "tags": []
   },
   "outputs": [
    {
     "name": "stdout",
     "output_type": "stream",
     "text": [
      "<class 'pandas.core.frame.DataFrame'>\n",
      "RangeIndex: 891 entries, 0 to 890\n",
      "Data columns (total 12 columns):\n",
      " #   Column       Non-Null Count  Dtype  \n",
      "---  ------       --------------  -----  \n",
      " 0   PassengerId  891 non-null    int64  \n",
      " 1   Survived     891 non-null    int64  \n",
      " 2   Pclass       891 non-null    int64  \n",
      " 3   Name         891 non-null    object \n",
      " 4   Sex          891 non-null    object \n",
      " 5   Age          714 non-null    float64\n",
      " 6   SibSp        891 non-null    int64  \n",
      " 7   Parch        891 non-null    int64  \n",
      " 8   Ticket       891 non-null    object \n",
      " 9   Fare         891 non-null    float64\n",
      " 10  Cabin        204 non-null    object \n",
      " 11  Embarked     889 non-null    object \n",
      "dtypes: float64(2), int64(5), object(5)\n",
      "memory usage: 83.7+ KB\n",
      "None\n",
      "\n",
      "<class 'pandas.core.frame.DataFrame'>\n",
      "RangeIndex: 418 entries, 0 to 417\n",
      "Data columns (total 11 columns):\n",
      " #   Column       Non-Null Count  Dtype  \n",
      "---  ------       --------------  -----  \n",
      " 0   PassengerId  418 non-null    int64  \n",
      " 1   Pclass       418 non-null    int64  \n",
      " 2   Name         418 non-null    object \n",
      " 3   Sex          418 non-null    object \n",
      " 4   Age          332 non-null    float64\n",
      " 5   SibSp        418 non-null    int64  \n",
      " 6   Parch        418 non-null    int64  \n",
      " 7   Ticket       418 non-null    object \n",
      " 8   Fare         417 non-null    float64\n",
      " 9   Cabin        91 non-null     object \n",
      " 10  Embarked     418 non-null    object \n",
      "dtypes: float64(2), int64(4), object(5)\n",
      "memory usage: 36.0+ KB\n",
      "None\n"
     ]
    }
   ],
   "source": [
    "print(train_data.info())\n",
    "print()\n",
    "print(test_data.info())"
   ]
  },
  {
   "cell_type": "markdown",
   "id": "4fe42f4d",
   "metadata": {
    "papermill": {
     "duration": 0.008836,
     "end_time": "2024-03-11T01:01:19.255272",
     "exception": false,
     "start_time": "2024-03-11T01:01:19.246436",
     "status": "completed"
    },
    "tags": []
   },
   "source": [
    "The column 'Cabin' seems to have a lot of missing values. There's also variables that need to be reformated since their type is not applicable for most models."
   ]
  },
  {
   "cell_type": "code",
   "execution_count": 5,
   "id": "99ae9e3f",
   "metadata": {
    "execution": {
     "iopub.execute_input": "2024-03-11T01:01:19.274828Z",
     "iopub.status.busy": "2024-03-11T01:01:19.274500Z",
     "iopub.status.idle": "2024-03-11T01:01:19.310721Z",
     "shell.execute_reply": "2024-03-11T01:01:19.310061Z"
    },
    "papermill": {
     "duration": 0.048202,
     "end_time": "2024-03-11T01:01:19.312778",
     "exception": false,
     "start_time": "2024-03-11T01:01:19.264576",
     "status": "completed"
    },
    "tags": []
   },
   "outputs": [
    {
     "name": "stdout",
     "output_type": "stream",
     "text": [
      "       PassengerId    Survived      Pclass         Age       SibSp  \\\n",
      "count   891.000000  891.000000  891.000000  714.000000  891.000000   \n",
      "mean    446.000000    0.383838    2.308642   29.699118    0.523008   \n",
      "std     257.353842    0.486592    0.836071   14.526497    1.102743   \n",
      "min       1.000000    0.000000    1.000000    0.420000    0.000000   \n",
      "25%     223.500000    0.000000    2.000000   20.125000    0.000000   \n",
      "50%     446.000000    0.000000    3.000000   28.000000    0.000000   \n",
      "75%     668.500000    1.000000    3.000000   38.000000    1.000000   \n",
      "max     891.000000    1.000000    3.000000   80.000000    8.000000   \n",
      "\n",
      "            Parch        Fare  \n",
      "count  891.000000  891.000000  \n",
      "mean     0.381594   32.204208  \n",
      "std      0.806057   49.693429  \n",
      "min      0.000000    0.000000  \n",
      "25%      0.000000    7.910400  \n",
      "50%      0.000000   14.454200  \n",
      "75%      0.000000   31.000000  \n",
      "max      6.000000  512.329200  \n",
      "\n",
      "       PassengerId      Pclass         Age       SibSp       Parch        Fare\n",
      "count   418.000000  418.000000  332.000000  418.000000  418.000000  417.000000\n",
      "mean   1100.500000    2.265550   30.272590    0.447368    0.392344   35.627188\n",
      "std     120.810458    0.841838   14.181209    0.896760    0.981429   55.907576\n",
      "min     892.000000    1.000000    0.170000    0.000000    0.000000    0.000000\n",
      "25%     996.250000    1.000000   21.000000    0.000000    0.000000    7.895800\n",
      "50%    1100.500000    3.000000   27.000000    0.000000    0.000000   14.454200\n",
      "75%    1204.750000    3.000000   39.000000    1.000000    0.000000   31.500000\n",
      "max    1309.000000    3.000000   76.000000    8.000000    9.000000  512.329200\n"
     ]
    }
   ],
   "source": [
    "print(train_data.describe())\n",
    "print()\n",
    "print(test_data.describe())"
   ]
  },
  {
   "cell_type": "code",
   "execution_count": 6,
   "id": "442ea349",
   "metadata": {
    "execution": {
     "iopub.execute_input": "2024-03-11T01:01:19.333439Z",
     "iopub.status.busy": "2024-03-11T01:01:19.332774Z",
     "iopub.status.idle": "2024-03-11T01:01:19.341299Z",
     "shell.execute_reply": "2024-03-11T01:01:19.339945Z"
    },
    "papermill": {
     "duration": 0.021667,
     "end_time": "2024-03-11T01:01:19.343708",
     "exception": false,
     "start_time": "2024-03-11T01:01:19.322041",
     "status": "completed"
    },
    "tags": []
   },
   "outputs": [
    {
     "name": "stdout",
     "output_type": "stream",
     "text": [
      "train data duplicates:  0\n",
      "\n",
      "test data duplicates:  0\n"
     ]
    }
   ],
   "source": [
    "print('train data duplicates: ', train_data.duplicated().sum())\n",
    "print()\n",
    "print('test data duplicates: ', test_data.duplicated().sum())"
   ]
  },
  {
   "cell_type": "code",
   "execution_count": 7,
   "id": "5ba2dd2b",
   "metadata": {
    "execution": {
     "iopub.execute_input": "2024-03-11T01:01:19.364641Z",
     "iopub.status.busy": "2024-03-11T01:01:19.364171Z",
     "iopub.status.idle": "2024-03-11T01:01:19.372939Z",
     "shell.execute_reply": "2024-03-11T01:01:19.371671Z"
    },
    "papermill": {
     "duration": 0.021894,
     "end_time": "2024-03-11T01:01:19.375009",
     "exception": false,
     "start_time": "2024-03-11T01:01:19.353115",
     "status": "completed"
    },
    "tags": []
   },
   "outputs": [
    {
     "name": "stdout",
     "output_type": "stream",
     "text": [
      "PassengerId      0\n",
      "Survived         0\n",
      "Pclass           0\n",
      "Name             0\n",
      "Sex              0\n",
      "Age            177\n",
      "SibSp            0\n",
      "Parch            0\n",
      "Ticket           0\n",
      "Fare             0\n",
      "Cabin          687\n",
      "Embarked         2\n",
      "dtype: int64\n",
      "\n",
      "PassengerId      0\n",
      "Pclass           0\n",
      "Name             0\n",
      "Sex              0\n",
      "Age             86\n",
      "SibSp            0\n",
      "Parch            0\n",
      "Ticket           0\n",
      "Fare             1\n",
      "Cabin          327\n",
      "Embarked         0\n",
      "dtype: int64\n"
     ]
    }
   ],
   "source": [
    "print(train_data.isna().sum())\n",
    "print()\n",
    "print(test_data.isna().sum())"
   ]
  },
  {
   "cell_type": "markdown",
   "id": "40031dd5",
   "metadata": {
    "papermill": {
     "duration": 0.009094,
     "end_time": "2024-03-11T01:01:19.393595",
     "exception": false,
     "start_time": "2024-03-11T01:01:19.384501",
     "status": "completed"
    },
    "tags": []
   },
   "source": [
    "Concatenate data"
   ]
  },
  {
   "cell_type": "code",
   "execution_count": 8,
   "id": "dffba213",
   "metadata": {
    "execution": {
     "iopub.execute_input": "2024-03-11T01:01:19.414142Z",
     "iopub.status.busy": "2024-03-11T01:01:19.413743Z",
     "iopub.status.idle": "2024-03-11T01:01:19.422422Z",
     "shell.execute_reply": "2024-03-11T01:01:19.421021Z"
    },
    "papermill": {
     "duration": 0.021486,
     "end_time": "2024-03-11T01:01:19.424402",
     "exception": false,
     "start_time": "2024-03-11T01:01:19.402916",
     "status": "completed"
    },
    "tags": []
   },
   "outputs": [
    {
     "data": {
      "text/plain": [
       "Index(['PassengerId', 'Survived', 'Pclass', 'Name', 'Sex', 'Age', 'SibSp',\n",
       "       'Parch', 'Ticket', 'Fare', 'Cabin', 'Embarked'],\n",
       "      dtype='object')"
      ]
     },
     "execution_count": 8,
     "metadata": {},
     "output_type": "execute_result"
    }
   ],
   "source": [
    "combined_data = pd.concat([train_data, test_data], axis = 0)\n",
    "combined_data.columns"
   ]
  },
  {
   "cell_type": "code",
   "execution_count": 9,
   "id": "6a0e7514",
   "metadata": {
    "execution": {
     "iopub.execute_input": "2024-03-11T01:01:19.445384Z",
     "iopub.status.busy": "2024-03-11T01:01:19.444467Z",
     "iopub.status.idle": "2024-03-11T01:01:19.454036Z",
     "shell.execute_reply": "2024-03-11T01:01:19.452200Z"
    },
    "papermill": {
     "duration": 0.022433,
     "end_time": "2024-03-11T01:01:19.456366",
     "exception": false,
     "start_time": "2024-03-11T01:01:19.433933",
     "status": "completed"
    },
    "tags": []
   },
   "outputs": [],
   "source": [
    "combined_data = combined_data.drop(columns = 'Cabin')"
   ]
  },
  {
   "cell_type": "markdown",
   "id": "ba278852",
   "metadata": {
    "papermill": {
     "duration": 0.008899,
     "end_time": "2024-03-11T01:01:19.474831",
     "exception": false,
     "start_time": "2024-03-11T01:01:19.465932",
     "status": "completed"
    },
    "tags": []
   },
   "source": [
    "Removed cabin column since its mostly populated by NaN values"
   ]
  },
  {
   "cell_type": "markdown",
   "id": "0ebcca89",
   "metadata": {
    "papermill": {
     "duration": 0.008882,
     "end_time": "2024-03-11T01:01:19.492999",
     "exception": false,
     "start_time": "2024-03-11T01:01:19.484117",
     "status": "completed"
    },
    "tags": []
   },
   "source": [
    "Now let's deal with the missing values at the age columns replacing them with the mean age and lastly lets drop the 3 rows that still inlcude missing values, so we don't experience problems while fitting our model."
   ]
  },
  {
   "cell_type": "code",
   "execution_count": 10,
   "id": "a1aa8437",
   "metadata": {
    "execution": {
     "iopub.execute_input": "2024-03-11T01:01:19.515289Z",
     "iopub.status.busy": "2024-03-11T01:01:19.514189Z",
     "iopub.status.idle": "2024-03-11T01:01:19.521672Z",
     "shell.execute_reply": "2024-03-11T01:01:19.519939Z"
    },
    "papermill": {
     "duration": 0.021702,
     "end_time": "2024-03-11T01:01:19.524118",
     "exception": false,
     "start_time": "2024-03-11T01:01:19.502416",
     "status": "completed"
    },
    "tags": []
   },
   "outputs": [],
   "source": [
    "mean_age = combined_data['Age'].mean()\n",
    "combined_data['Age'] = combined_data['Age'].fillna(mean_age)"
   ]
  },
  {
   "cell_type": "code",
   "execution_count": 11,
   "id": "40c62eb8",
   "metadata": {
    "execution": {
     "iopub.execute_input": "2024-03-11T01:01:19.545548Z",
     "iopub.status.busy": "2024-03-11T01:01:19.545248Z",
     "iopub.status.idle": "2024-03-11T01:01:19.554502Z",
     "shell.execute_reply": "2024-03-11T01:01:19.553494Z"
    },
    "papermill": {
     "duration": 0.022603,
     "end_time": "2024-03-11T01:01:19.556657",
     "exception": false,
     "start_time": "2024-03-11T01:01:19.534054",
     "status": "completed"
    },
    "tags": []
   },
   "outputs": [
    {
     "name": "stdout",
     "output_type": "stream",
     "text": [
      "PassengerId    0\n",
      "Survived       0\n",
      "Pclass         0\n",
      "Name           0\n",
      "Sex            0\n",
      "Age            0\n",
      "SibSp          0\n",
      "Parch          0\n",
      "Ticket         0\n",
      "Fare           0\n",
      "Embarked       0\n",
      "dtype: int64\n"
     ]
    }
   ],
   "source": [
    "combined_data = combined_data.dropna(axis = 0)\n",
    "print(combined_data.isna().sum())"
   ]
  },
  {
   "cell_type": "markdown",
   "id": "63857e28",
   "metadata": {
    "papermill": {
     "duration": 0.009027,
     "end_time": "2024-03-11T01:01:19.575092",
     "exception": false,
     "start_time": "2024-03-11T01:01:19.566065",
     "status": "completed"
    },
    "tags": []
   },
   "source": [
    "Since we are gonna be using machine learning models on our data it would be a good practise to normalize our skewed data."
   ]
  },
  {
   "cell_type": "code",
   "execution_count": 12,
   "id": "0fc0d803",
   "metadata": {
    "execution": {
     "iopub.execute_input": "2024-03-11T01:01:19.596167Z",
     "iopub.status.busy": "2024-03-11T01:01:19.595118Z",
     "iopub.status.idle": "2024-03-11T01:01:19.984090Z",
     "shell.execute_reply": "2024-03-11T01:01:19.983271Z"
    },
    "papermill": {
     "duration": 0.401306,
     "end_time": "2024-03-11T01:01:19.985795",
     "exception": false,
     "start_time": "2024-03-11T01:01:19.584489",
     "status": "completed"
    },
    "tags": []
   },
   "outputs": [
    {
     "name": "stderr",
     "output_type": "stream",
     "text": [
      "/opt/conda/lib/python3.10/site-packages/seaborn/_oldcore.py:1119: FutureWarning: use_inf_as_na option is deprecated and will be removed in a future version. Convert inf values to NaN before operating instead.\n",
      "  with pd.option_context('mode.use_inf_as_na', True):\n"
     ]
    },
    {
     "data": {
      "text/plain": [
       "<Axes: xlabel='Fare', ylabel='Count'>"
      ]
     },
     "execution_count": 12,
     "metadata": {},
     "output_type": "execute_result"
    },
    {
     "data": {
      "image/png": "[encoded data removed]",
      "text/plain": [
       "<Figure size 640x480 with 1 Axes>"
      ]
     },
     "metadata": {},
     "output_type": "display_data"
    }
   ],
   "source": [
    "combined_data['Fare'] = combined_data['Fare'].apply(np.log1p)\n",
    "sns.histplot(combined_data['Fare'], kde = True)"
   ]
  },
  {
   "cell_type": "markdown",
   "id": "f6ac3946",
   "metadata": {
    "papermill": {
     "duration": 0.009832,
     "end_time": "2024-03-11T01:01:20.006028",
     "exception": false,
     "start_time": "2024-03-11T01:01:19.996196",
     "status": "completed"
    },
    "tags": []
   },
   "source": [
    "Now lets one-hot encode the categorical variables."
   ]
  },
  {
   "cell_type": "code",
   "execution_count": 13,
   "id": "b68aabf2",
   "metadata": {
    "execution": {
     "iopub.execute_input": "2024-03-11T01:01:20.028370Z",
     "iopub.status.busy": "2024-03-11T01:01:20.028005Z",
     "iopub.status.idle": "2024-03-11T01:01:20.046256Z",
     "shell.execute_reply": "2024-03-11T01:01:20.045051Z"
    },
    "papermill": {
     "duration": 0.031555,
     "end_time": "2024-03-11T01:01:20.048415",
     "exception": false,
     "start_time": "2024-03-11T01:01:20.016860",
     "status": "completed"
    },
    "tags": []
   },
   "outputs": [
    {
     "data": {
      "text/html": [
       "<div>\n",
       "<style scoped>\n",
       "    .dataframe tbody tr th:only-of-type {\n",
       "        vertical-align: middle;\n",
       "    }\n",
       "\n",
       "    .dataframe tbody tr th {\n",
       "        vertical-align: top;\n",
       "    }\n",
       "\n",
       "    .dataframe thead th {\n",
       "        text-align: right;\n",
       "    }\n",
       "</style>\n",
       "<table border=\"1\" class=\"dataframe\">\n",
       "  <thead>\n",
       "    <tr style=\"text-align: right;\">\n",
       "      <th></th>\n",
       "      <th>PassengerId</th>\n",
       "      <th>Survived</th>\n",
       "      <th>Pclass</th>\n",
       "      <th>Name</th>\n",
       "      <th>Sex</th>\n",
       "      <th>Age</th>\n",
       "      <th>SibSp</th>\n",
       "      <th>Parch</th>\n",
       "      <th>Ticket</th>\n",
       "      <th>Fare</th>\n",
       "      <th>Embarked</th>\n",
       "    </tr>\n",
       "  </thead>\n",
       "  <tbody>\n",
       "    <tr>\n",
       "      <th>0</th>\n",
       "      <td>1</td>\n",
       "      <td>0.0</td>\n",
       "      <td>3</td>\n",
       "      <td>Braund, Mr. Owen Harris</td>\n",
       "      <td>0</td>\n",
       "      <td>22.000000</td>\n",
       "      <td>1</td>\n",
       "      <td>0</td>\n",
       "      <td>A/5 21171</td>\n",
       "      <td>2.110213</td>\n",
       "      <td>2</td>\n",
       "    </tr>\n",
       "    <tr>\n",
       "      <th>1</th>\n",
       "      <td>2</td>\n",
       "      <td>1.0</td>\n",
       "      <td>1</td>\n",
       "      <td>Cumings, Mrs. John Bradley (Florence Briggs Th...</td>\n",
       "      <td>1</td>\n",
       "      <td>38.000000</td>\n",
       "      <td>1</td>\n",
       "      <td>0</td>\n",
       "      <td>PC 17599</td>\n",
       "      <td>4.280593</td>\n",
       "      <td>0</td>\n",
       "    </tr>\n",
       "    <tr>\n",
       "      <th>2</th>\n",
       "      <td>3</td>\n",
       "      <td>1.0</td>\n",
       "      <td>3</td>\n",
       "      <td>Heikkinen, Miss. Laina</td>\n",
       "      <td>1</td>\n",
       "      <td>26.000000</td>\n",
       "      <td>0</td>\n",
       "      <td>0</td>\n",
       "      <td>STON/O2. 3101282</td>\n",
       "      <td>2.188856</td>\n",
       "      <td>2</td>\n",
       "    </tr>\n",
       "    <tr>\n",
       "      <th>3</th>\n",
       "      <td>4</td>\n",
       "      <td>1.0</td>\n",
       "      <td>1</td>\n",
       "      <td>Futrelle, Mrs. Jacques Heath (Lily May Peel)</td>\n",
       "      <td>1</td>\n",
       "      <td>35.000000</td>\n",
       "      <td>1</td>\n",
       "      <td>0</td>\n",
       "      <td>113803</td>\n",
       "      <td>3.990834</td>\n",
       "      <td>2</td>\n",
       "    </tr>\n",
       "    <tr>\n",
       "      <th>4</th>\n",
       "      <td>5</td>\n",
       "      <td>0.0</td>\n",
       "      <td>3</td>\n",
       "      <td>Allen, Mr. William Henry</td>\n",
       "      <td>0</td>\n",
       "      <td>35.000000</td>\n",
       "      <td>0</td>\n",
       "      <td>0</td>\n",
       "      <td>373450</td>\n",
       "      <td>2.202765</td>\n",
       "      <td>2</td>\n",
       "    </tr>\n",
       "    <tr>\n",
       "      <th>5</th>\n",
       "      <td>6</td>\n",
       "      <td>0.0</td>\n",
       "      <td>3</td>\n",
       "      <td>Moran, Mr. James</td>\n",
       "      <td>0</td>\n",
       "      <td>29.881138</td>\n",
       "      <td>0</td>\n",
       "      <td>0</td>\n",
       "      <td>330877</td>\n",
       "      <td>2.246893</td>\n",
       "      <td>1</td>\n",
       "    </tr>\n",
       "    <tr>\n",
       "      <th>6</th>\n",
       "      <td>7</td>\n",
       "      <td>0.0</td>\n",
       "      <td>1</td>\n",
       "      <td>McCarthy, Mr. Timothy J</td>\n",
       "      <td>0</td>\n",
       "      <td>54.000000</td>\n",
       "      <td>0</td>\n",
       "      <td>0</td>\n",
       "      <td>17463</td>\n",
       "      <td>3.967694</td>\n",
       "      <td>2</td>\n",
       "    </tr>\n",
       "    <tr>\n",
       "      <th>7</th>\n",
       "      <td>8</td>\n",
       "      <td>0.0</td>\n",
       "      <td>3</td>\n",
       "      <td>Palsson, Master. Gosta Leonard</td>\n",
       "      <td>0</td>\n",
       "      <td>2.000000</td>\n",
       "      <td>3</td>\n",
       "      <td>1</td>\n",
       "      <td>349909</td>\n",
       "      <td>3.094446</td>\n",
       "      <td>2</td>\n",
       "    </tr>\n",
       "    <tr>\n",
       "      <th>8</th>\n",
       "      <td>9</td>\n",
       "      <td>1.0</td>\n",
       "      <td>3</td>\n",
       "      <td>Johnson, Mrs. Oscar W (Elisabeth Vilhelmina Berg)</td>\n",
       "      <td>1</td>\n",
       "      <td>27.000000</td>\n",
       "      <td>0</td>\n",
       "      <td>2</td>\n",
       "      <td>347742</td>\n",
       "      <td>2.495954</td>\n",
       "      <td>2</td>\n",
       "    </tr>\n",
       "    <tr>\n",
       "      <th>9</th>\n",
       "      <td>10</td>\n",
       "      <td>1.0</td>\n",
       "      <td>2</td>\n",
       "      <td>Nasser, Mrs. Nicholas (Adele Achem)</td>\n",
       "      <td>1</td>\n",
       "      <td>14.000000</td>\n",
       "      <td>1</td>\n",
       "      <td>0</td>\n",
       "      <td>237736</td>\n",
       "      <td>3.436268</td>\n",
       "      <td>0</td>\n",
       "    </tr>\n",
       "  </tbody>\n",
       "</table>\n",
       "</div>"
      ],
      "text/plain": [
       "   PassengerId  Survived  Pclass  \\\n",
       "0            1       0.0       3   \n",
       "1            2       1.0       1   \n",
       "2            3       1.0       3   \n",
       "3            4       1.0       1   \n",
       "4            5       0.0       3   \n",
       "5            6       0.0       3   \n",
       "6            7       0.0       1   \n",
       "7            8       0.0       3   \n",
       "8            9       1.0       3   \n",
       "9           10       1.0       2   \n",
       "\n",
       "                                                Name  Sex        Age  SibSp  \\\n",
       "0                            Braund, Mr. Owen Harris    0  22.000000      1   \n",
       "1  Cumings, Mrs. John Bradley (Florence Briggs Th...    1  38.000000      1   \n",
       "2                             Heikkinen, Miss. Laina    1  26.000000      0   \n",
       "3       Futrelle, Mrs. Jacques Heath (Lily May Peel)    1  35.000000      1   \n",
       "4                           Allen, Mr. William Henry    0  35.000000      0   \n",
       "5                                   Moran, Mr. James    0  29.881138      0   \n",
       "6                            McCarthy, Mr. Timothy J    0  54.000000      0   \n",
       "7                     Palsson, Master. Gosta Leonard    0   2.000000      3   \n",
       "8  Johnson, Mrs. Oscar W (Elisabeth Vilhelmina Berg)    1  27.000000      0   \n",
       "9                Nasser, Mrs. Nicholas (Adele Achem)    1  14.000000      1   \n",
       "\n",
       "   Parch            Ticket      Fare  Embarked  \n",
       "0      0         A/5 21171  2.110213         2  \n",
       "1      0          PC 17599  4.280593         0  \n",
       "2      0  STON/O2. 3101282  2.188856         2  \n",
       "3      0            113803  3.990834         2  \n",
       "4      0            373450  2.202765         2  \n",
       "5      0            330877  2.246893         1  \n",
       "6      0             17463  3.967694         2  \n",
       "7      1            349909  3.094446         2  \n",
       "8      2            347742  2.495954         2  \n",
       "9      0            237736  3.436268         0  "
      ]
     },
     "execution_count": 13,
     "metadata": {},
     "output_type": "execute_result"
    }
   ],
   "source": [
    "combined_data['Sex'] = combined_data['Sex'].map({'male': 0, 'female': 1})\n",
    "combined_data['Embarked'] = combined_data['Embarked'].map({'C': 0, 'Q': 1, 'S': 2})\n",
    "combined_data.head(10)"
   ]
  },
  {
   "cell_type": "markdown",
   "id": "fc4baa5f",
   "metadata": {
    "papermill": {
     "duration": 0.010214,
     "end_time": "2024-03-11T01:01:20.069002",
     "exception": false,
     "start_time": "2024-03-11T01:01:20.058788",
     "status": "completed"
    },
    "tags": []
   },
   "source": [
    "**Feature engineering**"
   ]
  },
  {
   "cell_type": "markdown",
   "id": "24fe7e34",
   "metadata": {
    "papermill": {
     "duration": 0.009816,
     "end_time": "2024-03-11T01:01:20.089110",
     "exception": false,
     "start_time": "2024-03-11T01:01:20.079294",
     "status": "completed"
    },
    "tags": []
   },
   "source": [
    "Group people with the same ticket number"
   ]
  },
  {
   "cell_type": "code",
   "execution_count": 14,
   "id": "80f5e208",
   "metadata": {
    "execution": {
     "iopub.execute_input": "2024-03-11T01:01:20.111586Z",
     "iopub.status.busy": "2024-03-11T01:01:20.110896Z",
     "iopub.status.idle": "2024-03-11T01:01:20.126976Z",
     "shell.execute_reply": "2024-03-11T01:01:20.126198Z"
    },
    "papermill": {
     "duration": 0.029426,
     "end_time": "2024-03-11T01:01:20.128671",
     "exception": false,
     "start_time": "2024-03-11T01:01:20.099245",
     "status": "completed"
    },
    "tags": []
   },
   "outputs": [
    {
     "data": {
      "text/html": [
       "<div>\n",
       "<style scoped>\n",
       "    .dataframe tbody tr th:only-of-type {\n",
       "        vertical-align: middle;\n",
       "    }\n",
       "\n",
       "    .dataframe tbody tr th {\n",
       "        vertical-align: top;\n",
       "    }\n",
       "\n",
       "    .dataframe thead th {\n",
       "        text-align: right;\n",
       "    }\n",
       "</style>\n",
       "<table border=\"1\" class=\"dataframe\">\n",
       "  <thead>\n",
       "    <tr style=\"text-align: right;\">\n",
       "      <th></th>\n",
       "      <th>PassengerId</th>\n",
       "      <th>Survived</th>\n",
       "      <th>Pclass</th>\n",
       "      <th>Name</th>\n",
       "      <th>Sex</th>\n",
       "      <th>Age</th>\n",
       "      <th>SibSp</th>\n",
       "      <th>Parch</th>\n",
       "      <th>Ticket</th>\n",
       "      <th>Fare</th>\n",
       "      <th>Embarked</th>\n",
       "      <th>Ticket_Group</th>\n",
       "    </tr>\n",
       "  </thead>\n",
       "  <tbody>\n",
       "    <tr>\n",
       "      <th>0</th>\n",
       "      <td>1</td>\n",
       "      <td>0.0</td>\n",
       "      <td>3</td>\n",
       "      <td>Braund, Mr. Owen Harris</td>\n",
       "      <td>0</td>\n",
       "      <td>22.000000</td>\n",
       "      <td>1</td>\n",
       "      <td>0</td>\n",
       "      <td>A/5 21171</td>\n",
       "      <td>2.110213</td>\n",
       "      <td>2</td>\n",
       "      <td>522</td>\n",
       "    </tr>\n",
       "    <tr>\n",
       "      <th>1</th>\n",
       "      <td>2</td>\n",
       "      <td>1.0</td>\n",
       "      <td>1</td>\n",
       "      <td>Cumings, Mrs. John Bradley (Florence Briggs Th...</td>\n",
       "      <td>1</td>\n",
       "      <td>38.000000</td>\n",
       "      <td>1</td>\n",
       "      <td>0</td>\n",
       "      <td>PC 17599</td>\n",
       "      <td>4.280593</td>\n",
       "      <td>0</td>\n",
       "      <td>595</td>\n",
       "    </tr>\n",
       "    <tr>\n",
       "      <th>2</th>\n",
       "      <td>3</td>\n",
       "      <td>1.0</td>\n",
       "      <td>3</td>\n",
       "      <td>Heikkinen, Miss. Laina</td>\n",
       "      <td>1</td>\n",
       "      <td>26.000000</td>\n",
       "      <td>0</td>\n",
       "      <td>0</td>\n",
       "      <td>STON/O2. 3101282</td>\n",
       "      <td>2.188856</td>\n",
       "      <td>2</td>\n",
       "      <td>668</td>\n",
       "    </tr>\n",
       "    <tr>\n",
       "      <th>3</th>\n",
       "      <td>4</td>\n",
       "      <td>1.0</td>\n",
       "      <td>1</td>\n",
       "      <td>Futrelle, Mrs. Jacques Heath (Lily May Peel)</td>\n",
       "      <td>1</td>\n",
       "      <td>35.000000</td>\n",
       "      <td>1</td>\n",
       "      <td>0</td>\n",
       "      <td>113803</td>\n",
       "      <td>3.990834</td>\n",
       "      <td>2</td>\n",
       "      <td>48</td>\n",
       "    </tr>\n",
       "    <tr>\n",
       "      <th>4</th>\n",
       "      <td>5</td>\n",
       "      <td>0.0</td>\n",
       "      <td>3</td>\n",
       "      <td>Allen, Mr. William Henry</td>\n",
       "      <td>0</td>\n",
       "      <td>35.000000</td>\n",
       "      <td>0</td>\n",
       "      <td>0</td>\n",
       "      <td>373450</td>\n",
       "      <td>2.202765</td>\n",
       "      <td>2</td>\n",
       "      <td>471</td>\n",
       "    </tr>\n",
       "    <tr>\n",
       "      <th>5</th>\n",
       "      <td>6</td>\n",
       "      <td>0.0</td>\n",
       "      <td>3</td>\n",
       "      <td>Moran, Mr. James</td>\n",
       "      <td>0</td>\n",
       "      <td>29.881138</td>\n",
       "      <td>0</td>\n",
       "      <td>0</td>\n",
       "      <td>330877</td>\n",
       "      <td>2.246893</td>\n",
       "      <td>1</td>\n",
       "      <td>274</td>\n",
       "    </tr>\n",
       "    <tr>\n",
       "      <th>6</th>\n",
       "      <td>7</td>\n",
       "      <td>0.0</td>\n",
       "      <td>1</td>\n",
       "      <td>McCarthy, Mr. Timothy J</td>\n",
       "      <td>0</td>\n",
       "      <td>54.000000</td>\n",
       "      <td>0</td>\n",
       "      <td>0</td>\n",
       "      <td>17463</td>\n",
       "      <td>3.967694</td>\n",
       "      <td>2</td>\n",
       "      <td>84</td>\n",
       "    </tr>\n",
       "    <tr>\n",
       "      <th>7</th>\n",
       "      <td>8</td>\n",
       "      <td>0.0</td>\n",
       "      <td>3</td>\n",
       "      <td>Palsson, Master. Gosta Leonard</td>\n",
       "      <td>0</td>\n",
       "      <td>2.000000</td>\n",
       "      <td>3</td>\n",
       "      <td>1</td>\n",
       "      <td>349909</td>\n",
       "      <td>3.094446</td>\n",
       "      <td>2</td>\n",
       "      <td>394</td>\n",
       "    </tr>\n",
       "    <tr>\n",
       "      <th>8</th>\n",
       "      <td>9</td>\n",
       "      <td>1.0</td>\n",
       "      <td>3</td>\n",
       "      <td>Johnson, Mrs. Oscar W (Elisabeth Vilhelmina Berg)</td>\n",
       "      <td>1</td>\n",
       "      <td>27.000000</td>\n",
       "      <td>0</td>\n",
       "      <td>2</td>\n",
       "      <td>347742</td>\n",
       "      <td>2.495954</td>\n",
       "      <td>2</td>\n",
       "      <td>343</td>\n",
       "    </tr>\n",
       "    <tr>\n",
       "      <th>9</th>\n",
       "      <td>10</td>\n",
       "      <td>1.0</td>\n",
       "      <td>2</td>\n",
       "      <td>Nasser, Mrs. Nicholas (Adele Achem)</td>\n",
       "      <td>1</td>\n",
       "      <td>14.000000</td>\n",
       "      <td>1</td>\n",
       "      <td>0</td>\n",
       "      <td>237736</td>\n",
       "      <td>3.436268</td>\n",
       "      <td>0</td>\n",
       "      <td>131</td>\n",
       "    </tr>\n",
       "  </tbody>\n",
       "</table>\n",
       "</div>"
      ],
      "text/plain": [
       "   PassengerId  Survived  Pclass  \\\n",
       "0            1       0.0       3   \n",
       "1            2       1.0       1   \n",
       "2            3       1.0       3   \n",
       "3            4       1.0       1   \n",
       "4            5       0.0       3   \n",
       "5            6       0.0       3   \n",
       "6            7       0.0       1   \n",
       "7            8       0.0       3   \n",
       "8            9       1.0       3   \n",
       "9           10       1.0       2   \n",
       "\n",
       "                                                Name  Sex        Age  SibSp  \\\n",
       "0                            Braund, Mr. Owen Harris    0  22.000000      1   \n",
       "1  Cumings, Mrs. John Bradley (Florence Briggs Th...    1  38.000000      1   \n",
       "2                             Heikkinen, Miss. Laina    1  26.000000      0   \n",
       "3       Futrelle, Mrs. Jacques Heath (Lily May Peel)    1  35.000000      1   \n",
       "4                           Allen, Mr. William Henry    0  35.000000      0   \n",
       "5                                   Moran, Mr. James    0  29.881138      0   \n",
       "6                            McCarthy, Mr. Timothy J    0  54.000000      0   \n",
       "7                     Palsson, Master. Gosta Leonard    0   2.000000      3   \n",
       "8  Johnson, Mrs. Oscar W (Elisabeth Vilhelmina Berg)    1  27.000000      0   \n",
       "9                Nasser, Mrs. Nicholas (Adele Achem)    1  14.000000      1   \n",
       "\n",
       "   Parch            Ticket      Fare  Embarked  Ticket_Group  \n",
       "0      0         A/5 21171  2.110213         2           522  \n",
       "1      0          PC 17599  4.280593         0           595  \n",
       "2      0  STON/O2. 3101282  2.188856         2           668  \n",
       "3      0            113803  3.990834         2            48  \n",
       "4      0            373450  2.202765         2           471  \n",
       "5      0            330877  2.246893         1           274  \n",
       "6      0             17463  3.967694         2            84  \n",
       "7      1            349909  3.094446         2           394  \n",
       "8      2            347742  2.495954         2           343  \n",
       "9      0            237736  3.436268         0           131  "
      ]
     },
     "execution_count": 14,
     "metadata": {},
     "output_type": "execute_result"
    }
   ],
   "source": [
    "combined_data['Ticket_Group'] = combined_data.groupby('Ticket').ngroup()\n",
    "combined_data.head(10)"
   ]
  },
  {
   "cell_type": "markdown",
   "id": "fca96f8a",
   "metadata": {
    "papermill": {
     "duration": 0.010726,
     "end_time": "2024-03-11T01:01:20.150549",
     "exception": false,
     "start_time": "2024-03-11T01:01:20.139823",
     "status": "completed"
    },
    "tags": []
   },
   "source": [
    "Family size using Parch and SibSp"
   ]
  },
  {
   "cell_type": "code",
   "execution_count": 15,
   "id": "7cbece43",
   "metadata": {
    "execution": {
     "iopub.execute_input": "2024-03-11T01:01:20.174191Z",
     "iopub.status.busy": "2024-03-11T01:01:20.173042Z",
     "iopub.status.idle": "2024-03-11T01:01:20.193400Z",
     "shell.execute_reply": "2024-03-11T01:01:20.191983Z"
    },
    "papermill": {
     "duration": 0.03443,
     "end_time": "2024-03-11T01:01:20.195664",
     "exception": false,
     "start_time": "2024-03-11T01:01:20.161234",
     "status": "completed"
    },
    "tags": []
   },
   "outputs": [
    {
     "data": {
      "text/html": [
       "<div>\n",
       "<style scoped>\n",
       "    .dataframe tbody tr th:only-of-type {\n",
       "        vertical-align: middle;\n",
       "    }\n",
       "\n",
       "    .dataframe tbody tr th {\n",
       "        vertical-align: top;\n",
       "    }\n",
       "\n",
       "    .dataframe thead th {\n",
       "        text-align: right;\n",
       "    }\n",
       "</style>\n",
       "<table border=\"1\" class=\"dataframe\">\n",
       "  <thead>\n",
       "    <tr style=\"text-align: right;\">\n",
       "      <th></th>\n",
       "      <th>PassengerId</th>\n",
       "      <th>Survived</th>\n",
       "      <th>Pclass</th>\n",
       "      <th>Name</th>\n",
       "      <th>Sex</th>\n",
       "      <th>Age</th>\n",
       "      <th>SibSp</th>\n",
       "      <th>Parch</th>\n",
       "      <th>Ticket</th>\n",
       "      <th>Fare</th>\n",
       "      <th>Embarked</th>\n",
       "      <th>Ticket_Group</th>\n",
       "      <th>Family_size</th>\n",
       "    </tr>\n",
       "  </thead>\n",
       "  <tbody>\n",
       "    <tr>\n",
       "      <th>0</th>\n",
       "      <td>1</td>\n",
       "      <td>0.0</td>\n",
       "      <td>3</td>\n",
       "      <td>Braund, Mr. Owen Harris</td>\n",
       "      <td>0</td>\n",
       "      <td>22.000000</td>\n",
       "      <td>1</td>\n",
       "      <td>0</td>\n",
       "      <td>A/5 21171</td>\n",
       "      <td>2.110213</td>\n",
       "      <td>2</td>\n",
       "      <td>522</td>\n",
       "      <td>1</td>\n",
       "    </tr>\n",
       "    <tr>\n",
       "      <th>1</th>\n",
       "      <td>2</td>\n",
       "      <td>1.0</td>\n",
       "      <td>1</td>\n",
       "      <td>Cumings, Mrs. John Bradley (Florence Briggs Th...</td>\n",
       "      <td>1</td>\n",
       "      <td>38.000000</td>\n",
       "      <td>1</td>\n",
       "      <td>0</td>\n",
       "      <td>PC 17599</td>\n",
       "      <td>4.280593</td>\n",
       "      <td>0</td>\n",
       "      <td>595</td>\n",
       "      <td>1</td>\n",
       "    </tr>\n",
       "    <tr>\n",
       "      <th>2</th>\n",
       "      <td>3</td>\n",
       "      <td>1.0</td>\n",
       "      <td>3</td>\n",
       "      <td>Heikkinen, Miss. Laina</td>\n",
       "      <td>1</td>\n",
       "      <td>26.000000</td>\n",
       "      <td>0</td>\n",
       "      <td>0</td>\n",
       "      <td>STON/O2. 3101282</td>\n",
       "      <td>2.188856</td>\n",
       "      <td>2</td>\n",
       "      <td>668</td>\n",
       "      <td>0</td>\n",
       "    </tr>\n",
       "    <tr>\n",
       "      <th>3</th>\n",
       "      <td>4</td>\n",
       "      <td>1.0</td>\n",
       "      <td>1</td>\n",
       "      <td>Futrelle, Mrs. Jacques Heath (Lily May Peel)</td>\n",
       "      <td>1</td>\n",
       "      <td>35.000000</td>\n",
       "      <td>1</td>\n",
       "      <td>0</td>\n",
       "      <td>113803</td>\n",
       "      <td>3.990834</td>\n",
       "      <td>2</td>\n",
       "      <td>48</td>\n",
       "      <td>1</td>\n",
       "    </tr>\n",
       "    <tr>\n",
       "      <th>4</th>\n",
       "      <td>5</td>\n",
       "      <td>0.0</td>\n",
       "      <td>3</td>\n",
       "      <td>Allen, Mr. William Henry</td>\n",
       "      <td>0</td>\n",
       "      <td>35.000000</td>\n",
       "      <td>0</td>\n",
       "      <td>0</td>\n",
       "      <td>373450</td>\n",
       "      <td>2.202765</td>\n",
       "      <td>2</td>\n",
       "      <td>471</td>\n",
       "      <td>0</td>\n",
       "    </tr>\n",
       "    <tr>\n",
       "      <th>5</th>\n",
       "      <td>6</td>\n",
       "      <td>0.0</td>\n",
       "      <td>3</td>\n",
       "      <td>Moran, Mr. James</td>\n",
       "      <td>0</td>\n",
       "      <td>29.881138</td>\n",
       "      <td>0</td>\n",
       "      <td>0</td>\n",
       "      <td>330877</td>\n",
       "      <td>2.246893</td>\n",
       "      <td>1</td>\n",
       "      <td>274</td>\n",
       "      <td>0</td>\n",
       "    </tr>\n",
       "    <tr>\n",
       "      <th>6</th>\n",
       "      <td>7</td>\n",
       "      <td>0.0</td>\n",
       "      <td>1</td>\n",
       "      <td>McCarthy, Mr. Timothy J</td>\n",
       "      <td>0</td>\n",
       "      <td>54.000000</td>\n",
       "      <td>0</td>\n",
       "      <td>0</td>\n",
       "      <td>17463</td>\n",
       "      <td>3.967694</td>\n",
       "      <td>2</td>\n",
       "      <td>84</td>\n",
       "      <td>0</td>\n",
       "    </tr>\n",
       "    <tr>\n",
       "      <th>7</th>\n",
       "      <td>8</td>\n",
       "      <td>0.0</td>\n",
       "      <td>3</td>\n",
       "      <td>Palsson, Master. Gosta Leonard</td>\n",
       "      <td>0</td>\n",
       "      <td>2.000000</td>\n",
       "      <td>3</td>\n",
       "      <td>1</td>\n",
       "      <td>349909</td>\n",
       "      <td>3.094446</td>\n",
       "      <td>2</td>\n",
       "      <td>394</td>\n",
       "      <td>4</td>\n",
       "    </tr>\n",
       "    <tr>\n",
       "      <th>8</th>\n",
       "      <td>9</td>\n",
       "      <td>1.0</td>\n",
       "      <td>3</td>\n",
       "      <td>Johnson, Mrs. Oscar W (Elisabeth Vilhelmina Berg)</td>\n",
       "      <td>1</td>\n",
       "      <td>27.000000</td>\n",
       "      <td>0</td>\n",
       "      <td>2</td>\n",
       "      <td>347742</td>\n",
       "      <td>2.495954</td>\n",
       "      <td>2</td>\n",
       "      <td>343</td>\n",
       "      <td>2</td>\n",
       "    </tr>\n",
       "    <tr>\n",
       "      <th>9</th>\n",
       "      <td>10</td>\n",
       "      <td>1.0</td>\n",
       "      <td>2</td>\n",
       "      <td>Nasser, Mrs. Nicholas (Adele Achem)</td>\n",
       "      <td>1</td>\n",
       "      <td>14.000000</td>\n",
       "      <td>1</td>\n",
       "      <td>0</td>\n",
       "      <td>237736</td>\n",
       "      <td>3.436268</td>\n",
       "      <td>0</td>\n",
       "      <td>131</td>\n",
       "      <td>1</td>\n",
       "    </tr>\n",
       "  </tbody>\n",
       "</table>\n",
       "</div>"
      ],
      "text/plain": [
       "   PassengerId  Survived  Pclass  \\\n",
       "0            1       0.0       3   \n",
       "1            2       1.0       1   \n",
       "2            3       1.0       3   \n",
       "3            4       1.0       1   \n",
       "4            5       0.0       3   \n",
       "5            6       0.0       3   \n",
       "6            7       0.0       1   \n",
       "7            8       0.0       3   \n",
       "8            9       1.0       3   \n",
       "9           10       1.0       2   \n",
       "\n",
       "                                                Name  Sex        Age  SibSp  \\\n",
       "0                            Braund, Mr. Owen Harris    0  22.000000      1   \n",
       "1  Cumings, Mrs. John Bradley (Florence Briggs Th...    1  38.000000      1   \n",
       "2                             Heikkinen, Miss. Laina    1  26.000000      0   \n",
       "3       Futrelle, Mrs. Jacques Heath (Lily May Peel)    1  35.000000      1   \n",
       "4                           Allen, Mr. William Henry    0  35.000000      0   \n",
       "5                                   Moran, Mr. James    0  29.881138      0   \n",
       "6                            McCarthy, Mr. Timothy J    0  54.000000      0   \n",
       "7                     Palsson, Master. Gosta Leonard    0   2.000000      3   \n",
       "8  Johnson, Mrs. Oscar W (Elisabeth Vilhelmina Berg)    1  27.000000      0   \n",
       "9                Nasser, Mrs. Nicholas (Adele Achem)    1  14.000000      1   \n",
       "\n",
       "   Parch            Ticket      Fare  Embarked  Ticket_Group  Family_size  \n",
       "0      0         A/5 21171  2.110213         2           522            1  \n",
       "1      0          PC 17599  4.280593         0           595            1  \n",
       "2      0  STON/O2. 3101282  2.188856         2           668            0  \n",
       "3      0            113803  3.990834         2            48            1  \n",
       "4      0            373450  2.202765         2           471            0  \n",
       "5      0            330877  2.246893         1           274            0  \n",
       "6      0             17463  3.967694         2            84            0  \n",
       "7      1            349909  3.094446         2           394            4  \n",
       "8      2            347742  2.495954         2           343            2  \n",
       "9      0            237736  3.436268         0           131            1  "
      ]
     },
     "execution_count": 15,
     "metadata": {},
     "output_type": "execute_result"
    }
   ],
   "source": [
    "combined_data['Family_size'] = combined_data['SibSp'] + combined_data['Parch']\n",
    "combined_data.head(10)"
   ]
  },
  {
   "cell_type": "markdown",
   "id": "9f7fedcd",
   "metadata": {
    "papermill": {
     "duration": 0.010329,
     "end_time": "2024-03-11T01:01:20.217043",
     "exception": false,
     "start_time": "2024-03-11T01:01:20.206714",
     "status": "completed"
    },
    "tags": []
   },
   "source": [
    "Age group"
   ]
  },
  {
   "cell_type": "code",
   "execution_count": 16,
   "id": "7f50a0d3",
   "metadata": {
    "execution": {
     "iopub.execute_input": "2024-03-11T01:01:20.240826Z",
     "iopub.status.busy": "2024-03-11T01:01:20.240462Z",
     "iopub.status.idle": "2024-03-11T01:01:20.419566Z",
     "shell.execute_reply": "2024-03-11T01:01:20.418353Z"
    },
    "papermill": {
     "duration": 0.193892,
     "end_time": "2024-03-11T01:01:20.422182",
     "exception": false,
     "start_time": "2024-03-11T01:01:20.228290",
     "status": "completed"
    },
    "tags": []
   },
   "outputs": [
    {
     "data": {
      "text/plain": [
       "0    1\n",
       "1    2\n",
       "2    1\n",
       "3    2\n",
       "4    2\n",
       "Name: Age_group, dtype: int64"
      ]
     },
     "execution_count": 16,
     "metadata": {},
     "output_type": "execute_result"
    }
   ],
   "source": [
    "from sklearn.preprocessing import LabelEncoder\n",
    "bins = [0, 18, 30, 40, 50, 60, 100]\n",
    "labels = ['0-18', '19-30', '31-40', '41-50', '51-60', '61-100']\n",
    "label_encoder = LabelEncoder()\n",
    "combined_data['Age_group'] = pd.cut(combined_data['Age'], bins = bins, labels = labels, right = False)\n",
    "combined_data['Age_group'] = label_encoder.fit_transform(combined_data['Age_group'])\n",
    "combined_data['Age_group'].head()"
   ]
  },
  {
   "cell_type": "markdown",
   "id": "79a589ed",
   "metadata": {
    "papermill": {
     "duration": 0.010765,
     "end_time": "2024-03-11T01:01:20.443899",
     "exception": false,
     "start_time": "2024-03-11T01:01:20.433134",
     "status": "completed"
    },
    "tags": []
   },
   "source": [
    "Title feature from string name"
   ]
  },
  {
   "cell_type": "code",
   "execution_count": 17,
   "id": "98c5ee93",
   "metadata": {
    "execution": {
     "iopub.execute_input": "2024-03-11T01:01:20.527490Z",
     "iopub.status.busy": "2024-03-11T01:01:20.526541Z",
     "iopub.status.idle": "2024-03-11T01:01:20.543261Z",
     "shell.execute_reply": "2024-03-11T01:01:20.542392Z"
    },
    "papermill": {
     "duration": 0.031113,
     "end_time": "2024-03-11T01:01:20.545214",
     "exception": false,
     "start_time": "2024-03-11T01:01:20.514101",
     "status": "completed"
    },
    "tags": []
   },
   "outputs": [
    {
     "data": {
      "text/html": [
       "<div>\n",
       "<style scoped>\n",
       "    .dataframe tbody tr th:only-of-type {\n",
       "        vertical-align: middle;\n",
       "    }\n",
       "\n",
       "    .dataframe tbody tr th {\n",
       "        vertical-align: top;\n",
       "    }\n",
       "\n",
       "    .dataframe thead th {\n",
       "        text-align: right;\n",
       "    }\n",
       "</style>\n",
       "<table border=\"1\" class=\"dataframe\">\n",
       "  <thead>\n",
       "    <tr style=\"text-align: right;\">\n",
       "      <th></th>\n",
       "      <th>PassengerId</th>\n",
       "      <th>Survived</th>\n",
       "      <th>Pclass</th>\n",
       "      <th>Name</th>\n",
       "      <th>Sex</th>\n",
       "      <th>Age</th>\n",
       "      <th>SibSp</th>\n",
       "      <th>Parch</th>\n",
       "      <th>Ticket</th>\n",
       "      <th>Fare</th>\n",
       "      <th>Embarked</th>\n",
       "      <th>Ticket_Group</th>\n",
       "      <th>Family_size</th>\n",
       "      <th>Age_group</th>\n",
       "      <th>Title</th>\n",
       "    </tr>\n",
       "  </thead>\n",
       "  <tbody>\n",
       "    <tr>\n",
       "      <th>0</th>\n",
       "      <td>1</td>\n",
       "      <td>0.0</td>\n",
       "      <td>3</td>\n",
       "      <td>Braund, Mr. Owen Harris</td>\n",
       "      <td>0</td>\n",
       "      <td>22.0</td>\n",
       "      <td>1</td>\n",
       "      <td>0</td>\n",
       "      <td>A/5 21171</td>\n",
       "      <td>2.110213</td>\n",
       "      <td>2</td>\n",
       "      <td>522</td>\n",
       "      <td>1</td>\n",
       "      <td>1</td>\n",
       "      <td>Mr</td>\n",
       "    </tr>\n",
       "    <tr>\n",
       "      <th>1</th>\n",
       "      <td>2</td>\n",
       "      <td>1.0</td>\n",
       "      <td>1</td>\n",
       "      <td>Cumings, Mrs. John Bradley (Florence Briggs Th...</td>\n",
       "      <td>1</td>\n",
       "      <td>38.0</td>\n",
       "      <td>1</td>\n",
       "      <td>0</td>\n",
       "      <td>PC 17599</td>\n",
       "      <td>4.280593</td>\n",
       "      <td>0</td>\n",
       "      <td>595</td>\n",
       "      <td>1</td>\n",
       "      <td>2</td>\n",
       "      <td>Mrs</td>\n",
       "    </tr>\n",
       "    <tr>\n",
       "      <th>2</th>\n",
       "      <td>3</td>\n",
       "      <td>1.0</td>\n",
       "      <td>3</td>\n",
       "      <td>Heikkinen, Miss. Laina</td>\n",
       "      <td>1</td>\n",
       "      <td>26.0</td>\n",
       "      <td>0</td>\n",
       "      <td>0</td>\n",
       "      <td>STON/O2. 3101282</td>\n",
       "      <td>2.188856</td>\n",
       "      <td>2</td>\n",
       "      <td>668</td>\n",
       "      <td>0</td>\n",
       "      <td>1</td>\n",
       "      <td>Miss</td>\n",
       "    </tr>\n",
       "    <tr>\n",
       "      <th>3</th>\n",
       "      <td>4</td>\n",
       "      <td>1.0</td>\n",
       "      <td>1</td>\n",
       "      <td>Futrelle, Mrs. Jacques Heath (Lily May Peel)</td>\n",
       "      <td>1</td>\n",
       "      <td>35.0</td>\n",
       "      <td>1</td>\n",
       "      <td>0</td>\n",
       "      <td>113803</td>\n",
       "      <td>3.990834</td>\n",
       "      <td>2</td>\n",
       "      <td>48</td>\n",
       "      <td>1</td>\n",
       "      <td>2</td>\n",
       "      <td>Mrs</td>\n",
       "    </tr>\n",
       "    <tr>\n",
       "      <th>4</th>\n",
       "      <td>5</td>\n",
       "      <td>0.0</td>\n",
       "      <td>3</td>\n",
       "      <td>Allen, Mr. William Henry</td>\n",
       "      <td>0</td>\n",
       "      <td>35.0</td>\n",
       "      <td>0</td>\n",
       "      <td>0</td>\n",
       "      <td>373450</td>\n",
       "      <td>2.202765</td>\n",
       "      <td>2</td>\n",
       "      <td>471</td>\n",
       "      <td>0</td>\n",
       "      <td>2</td>\n",
       "      <td>Mr</td>\n",
       "    </tr>\n",
       "  </tbody>\n",
       "</table>\n",
       "</div>"
      ],
      "text/plain": [
       "   PassengerId  Survived  Pclass  \\\n",
       "0            1       0.0       3   \n",
       "1            2       1.0       1   \n",
       "2            3       1.0       3   \n",
       "3            4       1.0       1   \n",
       "4            5       0.0       3   \n",
       "\n",
       "                                                Name  Sex   Age  SibSp  Parch  \\\n",
       "0                            Braund, Mr. Owen Harris    0  22.0      1      0   \n",
       "1  Cumings, Mrs. John Bradley (Florence Briggs Th...    1  38.0      1      0   \n",
       "2                             Heikkinen, Miss. Laina    1  26.0      0      0   \n",
       "3       Futrelle, Mrs. Jacques Heath (Lily May Peel)    1  35.0      1      0   \n",
       "4                           Allen, Mr. William Henry    0  35.0      0      0   \n",
       "\n",
       "             Ticket      Fare  Embarked  Ticket_Group  Family_size  Age_group  \\\n",
       "0         A/5 21171  2.110213         2           522            1          1   \n",
       "1          PC 17599  4.280593         0           595            1          2   \n",
       "2  STON/O2. 3101282  2.188856         2           668            0          1   \n",
       "3            113803  3.990834         2            48            1          2   \n",
       "4            373450  2.202765         2           471            0          2   \n",
       "\n",
       "  Title  \n",
       "0    Mr  \n",
       "1   Mrs  \n",
       "2  Miss  \n",
       "3   Mrs  \n",
       "4    Mr  "
      ]
     },
     "execution_count": 17,
     "metadata": {},
     "output_type": "execute_result"
    }
   ],
   "source": [
    "combined_data['Title'] = combined_data['Name'].apply(lambda x: x.split(',')[1].split('.')[0].strip())\n",
    "combined_data.head()"
   ]
  },
  {
   "cell_type": "code",
   "execution_count": 18,
   "id": "cf4da388",
   "metadata": {
    "execution": {
     "iopub.execute_input": "2024-03-11T01:01:20.569276Z",
     "iopub.status.busy": "2024-03-11T01:01:20.568953Z",
     "iopub.status.idle": "2024-03-11T01:01:20.576119Z",
     "shell.execute_reply": "2024-03-11T01:01:20.574569Z"
    },
    "papermill": {
     "duration": 0.022245,
     "end_time": "2024-03-11T01:01:20.578758",
     "exception": false,
     "start_time": "2024-03-11T01:01:20.556513",
     "status": "completed"
    },
    "tags": []
   },
   "outputs": [
    {
     "name": "stdout",
     "output_type": "stream",
     "text": [
      "['Mr' 'Mrs' 'Miss' 'Master' 'Don' 'Rev' 'Dr' 'Mme' 'Ms' 'Major' 'Lady'\n",
      " 'Sir' 'Mlle' 'Col' 'Capt' 'the Countess' 'Jonkheer']\n",
      "Title\n",
      "Mr              517\n",
      "Miss            181\n",
      "Mrs             124\n",
      "Master           40\n",
      "Dr                7\n",
      "Rev               6\n",
      "Mlle              2\n",
      "Major             2\n",
      "Col               2\n",
      "the Countess      1\n",
      "Capt              1\n",
      "Ms                1\n",
      "Sir               1\n",
      "Lady              1\n",
      "Mme               1\n",
      "Don               1\n",
      "Jonkheer          1\n",
      "Name: count, dtype: int64\n"
     ]
    }
   ],
   "source": [
    "print(combined_data['Title'].unique())\n",
    "print(combined_data['Title'].value_counts())"
   ]
  },
  {
   "cell_type": "code",
   "execution_count": 19,
   "id": "a38df5f2",
   "metadata": {
    "execution": {
     "iopub.execute_input": "2024-03-11T01:01:20.603524Z",
     "iopub.status.busy": "2024-03-11T01:01:20.602998Z",
     "iopub.status.idle": "2024-03-11T01:01:20.627382Z",
     "shell.execute_reply": "2024-03-11T01:01:20.626155Z"
    },
    "papermill": {
     "duration": 0.039209,
     "end_time": "2024-03-11T01:01:20.629579",
     "exception": false,
     "start_time": "2024-03-11T01:01:20.590370",
     "status": "completed"
    },
    "tags": []
   },
   "outputs": [
    {
     "data": {
      "text/html": [
       "<div>\n",
       "<style scoped>\n",
       "    .dataframe tbody tr th:only-of-type {\n",
       "        vertical-align: middle;\n",
       "    }\n",
       "\n",
       "    .dataframe tbody tr th {\n",
       "        vertical-align: top;\n",
       "    }\n",
       "\n",
       "    .dataframe thead th {\n",
       "        text-align: right;\n",
       "    }\n",
       "</style>\n",
       "<table border=\"1\" class=\"dataframe\">\n",
       "  <thead>\n",
       "    <tr style=\"text-align: right;\">\n",
       "      <th></th>\n",
       "      <th>PassengerId</th>\n",
       "      <th>Survived</th>\n",
       "      <th>Pclass</th>\n",
       "      <th>Name</th>\n",
       "      <th>Sex</th>\n",
       "      <th>Age</th>\n",
       "      <th>SibSp</th>\n",
       "      <th>Parch</th>\n",
       "      <th>Ticket</th>\n",
       "      <th>Fare</th>\n",
       "      <th>...</th>\n",
       "      <th>Title_Master</th>\n",
       "      <th>Title_Miss</th>\n",
       "      <th>Title_Mlle</th>\n",
       "      <th>Title_Mme</th>\n",
       "      <th>Title_Mr</th>\n",
       "      <th>Title_Mrs</th>\n",
       "      <th>Title_Ms</th>\n",
       "      <th>Title_Rev</th>\n",
       "      <th>Title_Sir</th>\n",
       "      <th>Title_the Countess</th>\n",
       "    </tr>\n",
       "  </thead>\n",
       "  <tbody>\n",
       "    <tr>\n",
       "      <th>0</th>\n",
       "      <td>1</td>\n",
       "      <td>0.0</td>\n",
       "      <td>3</td>\n",
       "      <td>Braund, Mr. Owen Harris</td>\n",
       "      <td>0</td>\n",
       "      <td>22.0</td>\n",
       "      <td>1</td>\n",
       "      <td>0</td>\n",
       "      <td>A/5 21171</td>\n",
       "      <td>2.110213</td>\n",
       "      <td>...</td>\n",
       "      <td>False</td>\n",
       "      <td>False</td>\n",
       "      <td>False</td>\n",
       "      <td>False</td>\n",
       "      <td>True</td>\n",
       "      <td>False</td>\n",
       "      <td>False</td>\n",
       "      <td>False</td>\n",
       "      <td>False</td>\n",
       "      <td>False</td>\n",
       "    </tr>\n",
       "    <tr>\n",
       "      <th>1</th>\n",
       "      <td>2</td>\n",
       "      <td>1.0</td>\n",
       "      <td>1</td>\n",
       "      <td>Cumings, Mrs. John Bradley (Florence Briggs Th...</td>\n",
       "      <td>1</td>\n",
       "      <td>38.0</td>\n",
       "      <td>1</td>\n",
       "      <td>0</td>\n",
       "      <td>PC 17599</td>\n",
       "      <td>4.280593</td>\n",
       "      <td>...</td>\n",
       "      <td>False</td>\n",
       "      <td>False</td>\n",
       "      <td>False</td>\n",
       "      <td>False</td>\n",
       "      <td>False</td>\n",
       "      <td>True</td>\n",
       "      <td>False</td>\n",
       "      <td>False</td>\n",
       "      <td>False</td>\n",
       "      <td>False</td>\n",
       "    </tr>\n",
       "    <tr>\n",
       "      <th>2</th>\n",
       "      <td>3</td>\n",
       "      <td>1.0</td>\n",
       "      <td>3</td>\n",
       "      <td>Heikkinen, Miss. Laina</td>\n",
       "      <td>1</td>\n",
       "      <td>26.0</td>\n",
       "      <td>0</td>\n",
       "      <td>0</td>\n",
       "      <td>STON/O2. 3101282</td>\n",
       "      <td>2.188856</td>\n",
       "      <td>...</td>\n",
       "      <td>False</td>\n",
       "      <td>True</td>\n",
       "      <td>False</td>\n",
       "      <td>False</td>\n",
       "      <td>False</td>\n",
       "      <td>False</td>\n",
       "      <td>False</td>\n",
       "      <td>False</td>\n",
       "      <td>False</td>\n",
       "      <td>False</td>\n",
       "    </tr>\n",
       "    <tr>\n",
       "      <th>3</th>\n",
       "      <td>4</td>\n",
       "      <td>1.0</td>\n",
       "      <td>1</td>\n",
       "      <td>Futrelle, Mrs. Jacques Heath (Lily May Peel)</td>\n",
       "      <td>1</td>\n",
       "      <td>35.0</td>\n",
       "      <td>1</td>\n",
       "      <td>0</td>\n",
       "      <td>113803</td>\n",
       "      <td>3.990834</td>\n",
       "      <td>...</td>\n",
       "      <td>False</td>\n",
       "      <td>False</td>\n",
       "      <td>False</td>\n",
       "      <td>False</td>\n",
       "      <td>False</td>\n",
       "      <td>True</td>\n",
       "      <td>False</td>\n",
       "      <td>False</td>\n",
       "      <td>False</td>\n",
       "      <td>False</td>\n",
       "    </tr>\n",
       "    <tr>\n",
       "      <th>4</th>\n",
       "      <td>5</td>\n",
       "      <td>0.0</td>\n",
       "      <td>3</td>\n",
       "      <td>Allen, Mr. William Henry</td>\n",
       "      <td>0</td>\n",
       "      <td>35.0</td>\n",
       "      <td>0</td>\n",
       "      <td>0</td>\n",
       "      <td>373450</td>\n",
       "      <td>2.202765</td>\n",
       "      <td>...</td>\n",
       "      <td>False</td>\n",
       "      <td>False</td>\n",
       "      <td>False</td>\n",
       "      <td>False</td>\n",
       "      <td>True</td>\n",
       "      <td>False</td>\n",
       "      <td>False</td>\n",
       "      <td>False</td>\n",
       "      <td>False</td>\n",
       "      <td>False</td>\n",
       "    </tr>\n",
       "  </tbody>\n",
       "</table>\n",
       "<p>5 rows × 31 columns</p>\n",
       "</div>"
      ],
      "text/plain": [
       "   PassengerId  Survived  Pclass  \\\n",
       "0            1       0.0       3   \n",
       "1            2       1.0       1   \n",
       "2            3       1.0       3   \n",
       "3            4       1.0       1   \n",
       "4            5       0.0       3   \n",
       "\n",
       "                                                Name  Sex   Age  SibSp  Parch  \\\n",
       "0                            Braund, Mr. Owen Harris    0  22.0      1      0   \n",
       "1  Cumings, Mrs. John Bradley (Florence Briggs Th...    1  38.0      1      0   \n",
       "2                             Heikkinen, Miss. Laina    1  26.0      0      0   \n",
       "3       Futrelle, Mrs. Jacques Heath (Lily May Peel)    1  35.0      1      0   \n",
       "4                           Allen, Mr. William Henry    0  35.0      0      0   \n",
       "\n",
       "             Ticket      Fare  ...  Title_Master  Title_Miss  Title_Mlle  \\\n",
       "0         A/5 21171  2.110213  ...         False       False       False   \n",
       "1          PC 17599  4.280593  ...         False       False       False   \n",
       "2  STON/O2. 3101282  2.188856  ...         False        True       False   \n",
       "3            113803  3.990834  ...         False       False       False   \n",
       "4            373450  2.202765  ...         False       False       False   \n",
       "\n",
       "   Title_Mme  Title_Mr  Title_Mrs  Title_Ms  Title_Rev  Title_Sir  \\\n",
       "0      False      True      False     False      False      False   \n",
       "1      False     False       True     False      False      False   \n",
       "2      False     False      False     False      False      False   \n",
       "3      False     False       True     False      False      False   \n",
       "4      False      True      False     False      False      False   \n",
       "\n",
       "   Title_the Countess  \n",
       "0               False  \n",
       "1               False  \n",
       "2               False  \n",
       "3               False  \n",
       "4               False  \n",
       "\n",
       "[5 rows x 31 columns]"
      ]
     },
     "execution_count": 19,
     "metadata": {},
     "output_type": "execute_result"
    }
   ],
   "source": [
    "combined_data = pd.get_dummies(combined_data, columns=['Title'], prefix='Title')\n",
    "df_train = combined_data[:len(train_data)]\n",
    "df_test = combined_data[:len(test_data)]\n",
    "df_train.head()"
   ]
  },
  {
   "cell_type": "markdown",
   "id": "4ec1f930",
   "metadata": {
    "papermill": {
     "duration": 0.011363,
     "end_time": "2024-03-11T01:01:20.652794",
     "exception": false,
     "start_time": "2024-03-11T01:01:20.641431",
     "status": "completed"
    },
    "tags": []
   },
   "source": [
    "Let's remove unecessary columns"
   ]
  },
  {
   "cell_type": "code",
   "execution_count": 20,
   "id": "942e145b",
   "metadata": {
    "execution": {
     "iopub.execute_input": "2024-03-11T01:01:20.677819Z",
     "iopub.status.busy": "2024-03-11T01:01:20.677259Z",
     "iopub.status.idle": "2024-03-11T01:01:20.697019Z",
     "shell.execute_reply": "2024-03-11T01:01:20.695940Z"
    },
    "papermill": {
     "duration": 0.034592,
     "end_time": "2024-03-11T01:01:20.698898",
     "exception": false,
     "start_time": "2024-03-11T01:01:20.664306",
     "status": "completed"
    },
    "tags": []
   },
   "outputs": [
    {
     "data": {
      "text/html": [
       "<div>\n",
       "<style scoped>\n",
       "    .dataframe tbody tr th:only-of-type {\n",
       "        vertical-align: middle;\n",
       "    }\n",
       "\n",
       "    .dataframe tbody tr th {\n",
       "        vertical-align: top;\n",
       "    }\n",
       "\n",
       "    .dataframe thead th {\n",
       "        text-align: right;\n",
       "    }\n",
       "</style>\n",
       "<table border=\"1\" class=\"dataframe\">\n",
       "  <thead>\n",
       "    <tr style=\"text-align: right;\">\n",
       "      <th></th>\n",
       "      <th>PassengerId</th>\n",
       "      <th>Survived</th>\n",
       "      <th>Pclass</th>\n",
       "      <th>Sex</th>\n",
       "      <th>Age</th>\n",
       "      <th>SibSp</th>\n",
       "      <th>Parch</th>\n",
       "      <th>Fare</th>\n",
       "      <th>Embarked</th>\n",
       "      <th>Ticket_Group</th>\n",
       "      <th>...</th>\n",
       "      <th>Title_Master</th>\n",
       "      <th>Title_Miss</th>\n",
       "      <th>Title_Mlle</th>\n",
       "      <th>Title_Mme</th>\n",
       "      <th>Title_Mr</th>\n",
       "      <th>Title_Mrs</th>\n",
       "      <th>Title_Ms</th>\n",
       "      <th>Title_Rev</th>\n",
       "      <th>Title_Sir</th>\n",
       "      <th>Title_the Countess</th>\n",
       "    </tr>\n",
       "  </thead>\n",
       "  <tbody>\n",
       "    <tr>\n",
       "      <th>0</th>\n",
       "      <td>1</td>\n",
       "      <td>0.0</td>\n",
       "      <td>3</td>\n",
       "      <td>0</td>\n",
       "      <td>22.0</td>\n",
       "      <td>1</td>\n",
       "      <td>0</td>\n",
       "      <td>2.110213</td>\n",
       "      <td>2</td>\n",
       "      <td>522</td>\n",
       "      <td>...</td>\n",
       "      <td>False</td>\n",
       "      <td>False</td>\n",
       "      <td>False</td>\n",
       "      <td>False</td>\n",
       "      <td>True</td>\n",
       "      <td>False</td>\n",
       "      <td>False</td>\n",
       "      <td>False</td>\n",
       "      <td>False</td>\n",
       "      <td>False</td>\n",
       "    </tr>\n",
       "    <tr>\n",
       "      <th>1</th>\n",
       "      <td>2</td>\n",
       "      <td>1.0</td>\n",
       "      <td>1</td>\n",
       "      <td>1</td>\n",
       "      <td>38.0</td>\n",
       "      <td>1</td>\n",
       "      <td>0</td>\n",
       "      <td>4.280593</td>\n",
       "      <td>0</td>\n",
       "      <td>595</td>\n",
       "      <td>...</td>\n",
       "      <td>False</td>\n",
       "      <td>False</td>\n",
       "      <td>False</td>\n",
       "      <td>False</td>\n",
       "      <td>False</td>\n",
       "      <td>True</td>\n",
       "      <td>False</td>\n",
       "      <td>False</td>\n",
       "      <td>False</td>\n",
       "      <td>False</td>\n",
       "    </tr>\n",
       "    <tr>\n",
       "      <th>2</th>\n",
       "      <td>3</td>\n",
       "      <td>1.0</td>\n",
       "      <td>3</td>\n",
       "      <td>1</td>\n",
       "      <td>26.0</td>\n",
       "      <td>0</td>\n",
       "      <td>0</td>\n",
       "      <td>2.188856</td>\n",
       "      <td>2</td>\n",
       "      <td>668</td>\n",
       "      <td>...</td>\n",
       "      <td>False</td>\n",
       "      <td>True</td>\n",
       "      <td>False</td>\n",
       "      <td>False</td>\n",
       "      <td>False</td>\n",
       "      <td>False</td>\n",
       "      <td>False</td>\n",
       "      <td>False</td>\n",
       "      <td>False</td>\n",
       "      <td>False</td>\n",
       "    </tr>\n",
       "    <tr>\n",
       "      <th>3</th>\n",
       "      <td>4</td>\n",
       "      <td>1.0</td>\n",
       "      <td>1</td>\n",
       "      <td>1</td>\n",
       "      <td>35.0</td>\n",
       "      <td>1</td>\n",
       "      <td>0</td>\n",
       "      <td>3.990834</td>\n",
       "      <td>2</td>\n",
       "      <td>48</td>\n",
       "      <td>...</td>\n",
       "      <td>False</td>\n",
       "      <td>False</td>\n",
       "      <td>False</td>\n",
       "      <td>False</td>\n",
       "      <td>False</td>\n",
       "      <td>True</td>\n",
       "      <td>False</td>\n",
       "      <td>False</td>\n",
       "      <td>False</td>\n",
       "      <td>False</td>\n",
       "    </tr>\n",
       "    <tr>\n",
       "      <th>4</th>\n",
       "      <td>5</td>\n",
       "      <td>0.0</td>\n",
       "      <td>3</td>\n",
       "      <td>0</td>\n",
       "      <td>35.0</td>\n",
       "      <td>0</td>\n",
       "      <td>0</td>\n",
       "      <td>2.202765</td>\n",
       "      <td>2</td>\n",
       "      <td>471</td>\n",
       "      <td>...</td>\n",
       "      <td>False</td>\n",
       "      <td>False</td>\n",
       "      <td>False</td>\n",
       "      <td>False</td>\n",
       "      <td>True</td>\n",
       "      <td>False</td>\n",
       "      <td>False</td>\n",
       "      <td>False</td>\n",
       "      <td>False</td>\n",
       "      <td>False</td>\n",
       "    </tr>\n",
       "  </tbody>\n",
       "</table>\n",
       "<p>5 rows × 29 columns</p>\n",
       "</div>"
      ],
      "text/plain": [
       "   PassengerId  Survived  Pclass  Sex   Age  SibSp  Parch      Fare  Embarked  \\\n",
       "0            1       0.0       3    0  22.0      1      0  2.110213         2   \n",
       "1            2       1.0       1    1  38.0      1      0  4.280593         0   \n",
       "2            3       1.0       3    1  26.0      0      0  2.188856         2   \n",
       "3            4       1.0       1    1  35.0      1      0  3.990834         2   \n",
       "4            5       0.0       3    0  35.0      0      0  2.202765         2   \n",
       "\n",
       "   Ticket_Group  ...  Title_Master  Title_Miss  Title_Mlle  Title_Mme  \\\n",
       "0           522  ...         False       False       False      False   \n",
       "1           595  ...         False       False       False      False   \n",
       "2           668  ...         False        True       False      False   \n",
       "3            48  ...         False       False       False      False   \n",
       "4           471  ...         False       False       False      False   \n",
       "\n",
       "   Title_Mr  Title_Mrs  Title_Ms  Title_Rev  Title_Sir  Title_the Countess  \n",
       "0      True      False     False      False      False               False  \n",
       "1     False       True     False      False      False               False  \n",
       "2     False      False     False      False      False               False  \n",
       "3     False       True     False      False      False               False  \n",
       "4      True      False     False      False      False               False  \n",
       "\n",
       "[5 rows x 29 columns]"
      ]
     },
     "execution_count": 20,
     "metadata": {},
     "output_type": "execute_result"
    }
   ],
   "source": [
    "df_train = df_train.drop(columns = ['Name', 'Ticket'])\n",
    "df_test = df_test.drop(columns = ['Name', 'Ticket', 'Survived'])\n",
    "df_train.head()"
   ]
  },
  {
   "cell_type": "markdown",
   "id": "31f6a6e6",
   "metadata": {
    "papermill": {
     "duration": 0.011142,
     "end_time": "2024-03-11T01:01:20.721941",
     "exception": false,
     "start_time": "2024-03-11T01:01:20.710799",
     "status": "completed"
    },
    "tags": []
   },
   "source": [
    "**Modeling**"
   ]
  },
  {
   "cell_type": "code",
   "execution_count": 21,
   "id": "31fc5761",
   "metadata": {
    "execution": {
     "iopub.execute_input": "2024-03-11T01:01:20.746900Z",
     "iopub.status.busy": "2024-03-11T01:01:20.746469Z",
     "iopub.status.idle": "2024-03-11T01:01:20.754304Z",
     "shell.execute_reply": "2024-03-11T01:01:20.753218Z"
    },
    "papermill": {
     "duration": 0.023053,
     "end_time": "2024-03-11T01:01:20.756376",
     "exception": false,
     "start_time": "2024-03-11T01:01:20.733323",
     "status": "completed"
    },
    "tags": []
   },
   "outputs": [
    {
     "name": "stdout",
     "output_type": "stream",
     "text": [
      "PassengerId           0\n",
      "Survived              0\n",
      "Pclass                0\n",
      "Sex                   0\n",
      "Age                   0\n",
      "SibSp                 0\n",
      "Parch                 0\n",
      "Fare                  0\n",
      "Embarked              0\n",
      "Ticket_Group          0\n",
      "Family_size           0\n",
      "Age_group             0\n",
      "Title_Capt            0\n",
      "Title_Col             0\n",
      "Title_Don             0\n",
      "Title_Dr              0\n",
      "Title_Jonkheer        0\n",
      "Title_Lady            0\n",
      "Title_Major           0\n",
      "Title_Master          0\n",
      "Title_Miss            0\n",
      "Title_Mlle            0\n",
      "Title_Mme             0\n",
      "Title_Mr              0\n",
      "Title_Mrs             0\n",
      "Title_Ms              0\n",
      "Title_Rev             0\n",
      "Title_Sir             0\n",
      "Title_the Countess    0\n",
      "dtype: int64\n",
      "PassengerId           0\n",
      "Pclass                0\n",
      "Sex                   0\n",
      "Age                   0\n",
      "SibSp                 0\n",
      "Parch                 0\n",
      "Fare                  0\n",
      "Embarked              0\n",
      "Ticket_Group          0\n",
      "Family_size           0\n",
      "Age_group             0\n",
      "Title_Capt            0\n",
      "Title_Col             0\n",
      "Title_Don             0\n",
      "Title_Dr              0\n",
      "Title_Jonkheer        0\n",
      "Title_Lady            0\n",
      "Title_Major           0\n",
      "Title_Master          0\n",
      "Title_Miss            0\n",
      "Title_Mlle            0\n",
      "Title_Mme             0\n",
      "Title_Mr              0\n",
      "Title_Mrs             0\n",
      "Title_Ms              0\n",
      "Title_Rev             0\n",
      "Title_Sir             0\n",
      "Title_the Countess    0\n",
      "dtype: int64\n"
     ]
    }
   ],
   "source": [
    "print(df_train.isna().sum())\n",
    "print(df_test.isna().sum())"
   ]
  },
  {
   "cell_type": "code",
   "execution_count": 22,
   "id": "72b4d506",
   "metadata": {
    "execution": {
     "iopub.execute_input": "2024-03-11T01:01:20.783383Z",
     "iopub.status.busy": "2024-03-11T01:01:20.782835Z",
     "iopub.status.idle": "2024-03-11T01:01:21.363517Z",
     "shell.execute_reply": "2024-03-11T01:01:21.362527Z"
    },
    "papermill": {
     "duration": 0.597108,
     "end_time": "2024-03-11T01:01:21.365931",
     "exception": false,
     "start_time": "2024-03-11T01:01:20.768823",
     "status": "completed"
    },
    "tags": []
   },
   "outputs": [],
   "source": [
    "from sklearn.model_selection import train_test_split, GridSearchCV, cross_val_score\n",
    "from sklearn.linear_model import LogisticRegression\n",
    "from sklearn.ensemble import RandomForestClassifier, GradientBoostingClassifier\n",
    "from sklearn.svm import SVC\n",
    "from sklearn.metrics import accuracy_score, precision_score, recall_score, f1_score, roc_auc_score\n",
    "from xgboost import XGBClassifier"
   ]
  },
  {
   "cell_type": "code",
   "execution_count": 23,
   "id": "98cd281d",
   "metadata": {
    "execution": {
     "iopub.execute_input": "2024-03-11T01:01:21.392677Z",
     "iopub.status.busy": "2024-03-11T01:01:21.392338Z",
     "iopub.status.idle": "2024-03-11T01:01:21.403461Z",
     "shell.execute_reply": "2024-03-11T01:01:21.402016Z"
    },
    "papermill": {
     "duration": 0.026581,
     "end_time": "2024-03-11T01:01:21.405999",
     "exception": false,
     "start_time": "2024-03-11T01:01:21.379418",
     "status": "completed"
    },
    "tags": []
   },
   "outputs": [],
   "source": [
    "y = df_train['Survived']\n",
    "X = df_train.drop(columns = 'Survived')\n",
    "X_train, X_val, y_train, y_val = train_test_split(X, y, test_size = 0.15, stratify = y, random_state = 42)"
   ]
  },
  {
   "cell_type": "code",
   "execution_count": 24,
   "id": "85c2d7bf",
   "metadata": {
    "execution": {
     "iopub.execute_input": "2024-03-11T01:01:21.432772Z",
     "iopub.status.busy": "2024-03-11T01:01:21.432399Z",
     "iopub.status.idle": "2024-03-11T01:01:21.440782Z",
     "shell.execute_reply": "2024-03-11T01:01:21.439697Z"
    },
    "papermill": {
     "duration": 0.024785,
     "end_time": "2024-03-11T01:01:21.443244",
     "exception": false,
     "start_time": "2024-03-11T01:01:21.418459",
     "status": "completed"
    },
    "tags": []
   },
   "outputs": [
    {
     "data": {
      "text/plain": [
       "387    2\n",
       "418    2\n",
       "74     2\n",
       "415    1\n",
       "308    2\n",
       "Name: Age_group, dtype: int64"
      ]
     },
     "execution_count": 24,
     "metadata": {},
     "output_type": "execute_result"
    }
   ],
   "source": [
    "X_train.dtypes\n",
    "X_train['Age_group'].head()"
   ]
  },
  {
   "cell_type": "code",
   "execution_count": 25,
   "id": "e1925603",
   "metadata": {
    "execution": {
     "iopub.execute_input": "2024-03-11T01:01:21.471228Z",
     "iopub.status.busy": "2024-03-11T01:01:21.470776Z",
     "iopub.status.idle": "2024-03-11T01:04:16.228653Z",
     "shell.execute_reply": "2024-03-11T01:04:16.227690Z"
    },
    "papermill": {
     "duration": 174.787583,
     "end_time": "2024-03-11T01:04:16.243889",
     "exception": false,
     "start_time": "2024-03-11T01:01:21.456306",
     "status": "completed"
    },
    "tags": []
   },
   "outputs": [
    {
     "name": "stderr",
     "output_type": "stream",
     "text": [
      "/opt/conda/lib/python3.10/site-packages/sklearn/linear_model/_sag.py:350: ConvergenceWarning: The max_iter was reached which means the coef_ did not converge\n",
      "  warnings.warn(\n",
      "/opt/conda/lib/python3.10/site-packages/sklearn/linear_model/_sag.py:350: ConvergenceWarning: The max_iter was reached which means the coef_ did not converge\n",
      "  warnings.warn(\n",
      "/opt/conda/lib/python3.10/site-packages/sklearn/linear_model/_sag.py:350: ConvergenceWarning: The max_iter was reached which means the coef_ did not converge\n",
      "  warnings.warn(\n",
      "/opt/conda/lib/python3.10/site-packages/sklearn/linear_model/_sag.py:350: ConvergenceWarning: The max_iter was reached which means the coef_ did not converge\n",
      "  warnings.warn(\n",
      "/opt/conda/lib/python3.10/site-packages/sklearn/linear_model/_sag.py:350: ConvergenceWarning: The max_iter was reached which means the coef_ did not converge\n",
      "  warnings.warn(\n",
      "/opt/conda/lib/python3.10/site-packages/sklearn/linear_model/_sag.py:350: ConvergenceWarning: The max_iter was reached which means the coef_ did not converge\n",
      "  warnings.warn(\n",
      "/opt/conda/lib/python3.10/site-packages/sklearn/linear_model/_sag.py:350: ConvergenceWarning: The max_iter was reached which means the coef_ did not converge\n",
      "  warnings.warn(\n",
      "/opt/conda/lib/python3.10/site-packages/sklearn/linear_model/_sag.py:350: ConvergenceWarning: The max_iter was reached which means the coef_ did not converge\n",
      "  warnings.warn(\n",
      "/opt/conda/lib/python3.10/site-packages/sklearn/linear_model/_sag.py:350: ConvergenceWarning: The max_iter was reached which means the coef_ did not converge\n",
      "  warnings.warn(\n",
      "/opt/conda/lib/python3.10/site-packages/sklearn/linear_model/_sag.py:350: ConvergenceWarning: The max_iter was reached which means the coef_ did not converge\n",
      "  warnings.warn(\n",
      "/opt/conda/lib/python3.10/site-packages/sklearn/linear_model/_sag.py:350: ConvergenceWarning: The max_iter was reached which means the coef_ did not converge\n",
      "  warnings.warn(\n",
      "/opt/conda/lib/python3.10/site-packages/sklearn/linear_model/_sag.py:350: ConvergenceWarning: The max_iter was reached which means the coef_ did not converge\n",
      "  warnings.warn(\n",
      "/opt/conda/lib/python3.10/site-packages/sklearn/linear_model/_sag.py:350: ConvergenceWarning: The max_iter was reached which means the coef_ did not converge\n",
      "  warnings.warn(\n",
      "/opt/conda/lib/python3.10/site-packages/sklearn/linear_model/_sag.py:350: ConvergenceWarning: The max_iter was reached which means the coef_ did not converge\n",
      "  warnings.warn(\n",
      "/opt/conda/lib/python3.10/site-packages/sklearn/linear_model/_sag.py:350: ConvergenceWarning: The max_iter was reached which means the coef_ did not converge\n",
      "  warnings.warn(\n",
      "/opt/conda/lib/python3.10/site-packages/sklearn/linear_model/_sag.py:350: ConvergenceWarning: The max_iter was reached which means the coef_ did not converge\n",
      "  warnings.warn(\n",
      "/opt/conda/lib/python3.10/site-packages/sklearn/linear_model/_sag.py:350: ConvergenceWarning: The max_iter was reached which means the coef_ did not converge\n",
      "  warnings.warn(\n",
      "/opt/conda/lib/python3.10/site-packages/sklearn/linear_model/_sag.py:350: ConvergenceWarning: The max_iter was reached which means the coef_ did not converge\n",
      "  warnings.warn(\n",
      "/opt/conda/lib/python3.10/site-packages/sklearn/linear_model/_sag.py:350: ConvergenceWarning: The max_iter was reached which means the coef_ did not converge\n",
      "  warnings.warn(\n",
      "/opt/conda/lib/python3.10/site-packages/sklearn/linear_model/_sag.py:350: ConvergenceWarning: The max_iter was reached which means the coef_ did not converge\n",
      "  warnings.warn(\n",
      "/opt/conda/lib/python3.10/site-packages/sklearn/linear_model/_sag.py:350: ConvergenceWarning: The max_iter was reached which means the coef_ did not converge\n",
      "  warnings.warn(\n",
      "/opt/conda/lib/python3.10/site-packages/sklearn/linear_model/_sag.py:350: ConvergenceWarning: The max_iter was reached which means the coef_ did not converge\n",
      "  warnings.warn(\n",
      "/opt/conda/lib/python3.10/site-packages/sklearn/linear_model/_sag.py:350: ConvergenceWarning: The max_iter was reached which means the coef_ did not converge\n",
      "  warnings.warn(\n",
      "/opt/conda/lib/python3.10/site-packages/sklearn/linear_model/_sag.py:350: ConvergenceWarning: The max_iter was reached which means the coef_ did not converge\n",
      "  warnings.warn(\n",
      "/opt/conda/lib/python3.10/site-packages/sklearn/linear_model/_sag.py:350: ConvergenceWarning: The max_iter was reached which means the coef_ did not converge\n",
      "  warnings.warn(\n",
      "/opt/conda/lib/python3.10/site-packages/sklearn/linear_model/_sag.py:350: ConvergenceWarning: The max_iter was reached which means the coef_ did not converge\n",
      "  warnings.warn(\n",
      "/opt/conda/lib/python3.10/site-packages/sklearn/linear_model/_sag.py:350: ConvergenceWarning: The max_iter was reached which means the coef_ did not converge\n",
      "  warnings.warn(\n",
      "/opt/conda/lib/python3.10/site-packages/sklearn/linear_model/_sag.py:350: ConvergenceWarning: The max_iter was reached which means the coef_ did not converge\n",
      "  warnings.warn(\n",
      "/opt/conda/lib/python3.10/site-packages/sklearn/linear_model/_sag.py:350: ConvergenceWarning: The max_iter was reached which means the coef_ did not converge\n",
      "  warnings.warn(\n",
      "/opt/conda/lib/python3.10/site-packages/sklearn/linear_model/_sag.py:350: ConvergenceWarning: The max_iter was reached which means the coef_ did not converge\n",
      "  warnings.warn(\n",
      "/opt/conda/lib/python3.10/site-packages/sklearn/linear_model/_sag.py:350: ConvergenceWarning: The max_iter was reached which means the coef_ did not converge\n",
      "  warnings.warn(\n",
      "/opt/conda/lib/python3.10/site-packages/sklearn/linear_model/_sag.py:350: ConvergenceWarning: The max_iter was reached which means the coef_ did not converge\n",
      "  warnings.warn(\n",
      "/opt/conda/lib/python3.10/site-packages/sklearn/linear_model/_sag.py:350: ConvergenceWarning: The max_iter was reached which means the coef_ did not converge\n",
      "  warnings.warn(\n",
      "/opt/conda/lib/python3.10/site-packages/sklearn/linear_model/_sag.py:350: ConvergenceWarning: The max_iter was reached which means the coef_ did not converge\n",
      "  warnings.warn(\n",
      "/opt/conda/lib/python3.10/site-packages/sklearn/linear_model/_sag.py:350: ConvergenceWarning: The max_iter was reached which means the coef_ did not converge\n",
      "  warnings.warn(\n",
      "/opt/conda/lib/python3.10/site-packages/sklearn/linear_model/_sag.py:350: ConvergenceWarning: The max_iter was reached which means the coef_ did not converge\n",
      "  warnings.warn(\n",
      "/opt/conda/lib/python3.10/site-packages/sklearn/linear_model/_sag.py:350: ConvergenceWarning: The max_iter was reached which means the coef_ did not converge\n",
      "  warnings.warn(\n",
      "/opt/conda/lib/python3.10/site-packages/sklearn/linear_model/_sag.py:350: ConvergenceWarning: The max_iter was reached which means the coef_ did not converge\n",
      "  warnings.warn(\n",
      "/opt/conda/lib/python3.10/site-packages/sklearn/linear_model/_sag.py:350: ConvergenceWarning: The max_iter was reached which means the coef_ did not converge\n",
      "  warnings.warn(\n"
     ]
    },
    {
     "name": "stdout",
     "output_type": "stream",
     "text": [
      "                                   Model  accuracy precision    recall  \\\n",
      "Model                                                                    \n",
      "Logistic Regression  Logistic Regression  0.833113  0.794387  0.761343   \n",
      "Random Forest              Random Forest  0.838411  0.818259  0.733575   \n",
      "Gradient Boosting      Gradient Boosting  0.811921    0.7849  0.730127   \n",
      "XGBoost                          XGBoost  0.813245  0.777424  0.716213   \n",
      "\n",
      "                           f1   roc_auc  \n",
      "Model                                    \n",
      "Logistic Regression  0.777344  0.871154  \n",
      "Random Forest        0.784438  0.876503  \n",
      "Gradient Boosting    0.758937  0.860198  \n",
      "XGBoost              0.745313  0.860758  \n"
     ]
    }
   ],
   "source": [
    "models = {\n",
    "    'Logistic Regression': LogisticRegression(max_iter = 2200),\n",
    "    'Random Forest': RandomForestClassifier(),\n",
    "    'Gradient Boosting': GradientBoostingClassifier(),\n",
    "    'XGBoost': XGBClassifier()\n",
    "}\n",
    "\n",
    "metrics = {\n",
    "    'accuracy': accuracy_score,\n",
    "    'precision': precision_score,\n",
    "    'recall': recall_score,\n",
    "    'f1': f1_score,\n",
    "    'roc_auc': roc_auc_score\n",
    "}\n",
    "\n",
    "# Define the parameter grids for each model\n",
    "param_grids = {\n",
    "    'Logistic Regression': {'C': [0.001, 0.01, 0.1, 1, 10],\n",
    "                            'penalty': ['l1', 'l2'],\n",
    "                            'solver': ['liblinear', 'saga']},\n",
    "    'Random Forest': {'n_estimators': [100, 200, 300, 400], 'max_depth': [None, 10, 20, 25]},\n",
    "    'Gradient Boosting': {'n_estimators': [100, 200, 300, 400], 'max_depth': [None, 3, 5, 7, 10]},\n",
    "    'XGBoost': {'n_estimators': [100, 200, 300, 400], 'max_depth': [None, 3, 5, 7, 10]}\n",
    "}\n",
    "\n",
    "results = {}\n",
    "\n",
    "for model_name, model in models.items():\n",
    "    model_results = {'Model': model_name}\n",
    "\n",
    "    # Perform grid search with cross-validation\n",
    "    grid_search = GridSearchCV(model, param_grids[model_name], cv=5, scoring='f1')\n",
    "    grid_search.fit(X_train, y_train)\n",
    "\n",
    "    # Get best parameters and best estimator\n",
    "    best_params = grid_search.best_params_\n",
    "    best_estimator = grid_search.best_estimator_\n",
    "    \n",
    "    # Loop over each metric\n",
    "    for metric_name, metric_func in metrics.items():\n",
    "        scores = cross_val_score(best_estimator, X_train, y_train, cv=5, scoring=metric_name.lower())\n",
    "        model_results[metric_name] = scores.mean()\n",
    "\n",
    "    results[model_name] = model_results\n",
    "\n",
    "# Convert results to DataFrame\n",
    "results_df = pd.DataFrame(results).T\n",
    "results_df.index.name = 'Model'\n",
    "\n",
    "print(results_df)"
   ]
  },
  {
   "cell_type": "markdown",
   "id": "2183e378",
   "metadata": {
    "papermill": {
     "duration": 0.0141,
     "end_time": "2024-03-11T01:04:16.272244",
     "exception": false,
     "start_time": "2024-03-11T01:04:16.258144",
     "status": "completed"
    },
    "tags": []
   },
   "source": [
    "Apply the Random Forest which is the best performing on my val data."
   ]
  },
  {
   "cell_type": "code",
   "execution_count": 26,
   "id": "253e01e3",
   "metadata": {
    "execution": {
     "iopub.execute_input": "2024-03-11T01:04:16.303318Z",
     "iopub.status.busy": "2024-03-11T01:04:16.302921Z",
     "iopub.status.idle": "2024-03-11T01:04:16.316411Z",
     "shell.execute_reply": "2024-03-11T01:04:16.315527Z"
    },
    "papermill": {
     "duration": 0.033148,
     "end_time": "2024-03-11T01:04:16.319806",
     "exception": false,
     "start_time": "2024-03-11T01:04:16.286658",
     "status": "completed"
    },
    "tags": []
   },
   "outputs": [
    {
     "name": "stdout",
     "output_type": "stream",
     "text": [
      "Validation F1 Score (Random Forest): 0.7428571428571428\n"
     ]
    }
   ],
   "source": [
    "# Identify the best performing model (in this case, Random Forest)\n",
    "best_model_name = results_df['f1'].idxmax()\n",
    "best_estimator = grid_search.best_estimator_\n",
    "\n",
    "# Apply the best performing model to the validation set\n",
    "y_pred_val = best_estimator.predict(X_val)\n",
    "f1_score_val = f1_score(y_val, y_pred_val)\n",
    "print(\"Validation F1 Score (Random Forest):\", f1_score_val)"
   ]
  },
  {
   "cell_type": "markdown",
   "id": "487bc127",
   "metadata": {
    "papermill": {
     "duration": 0.014274,
     "end_time": "2024-03-11T01:04:16.349410",
     "exception": false,
     "start_time": "2024-03-11T01:04:16.335136",
     "status": "completed"
    },
    "tags": []
   },
   "source": [
    "Apply on the test data and create the submission file"
   ]
  },
  {
   "cell_type": "code",
   "execution_count": 27,
   "id": "4c15fbff",
   "metadata": {
    "execution": {
     "iopub.execute_input": "2024-03-11T01:04:16.380659Z",
     "iopub.status.busy": "2024-03-11T01:04:16.380035Z",
     "iopub.status.idle": "2024-03-11T01:04:16.384840Z",
     "shell.execute_reply": "2024-03-11T01:04:16.383125Z"
    },
    "papermill": {
     "duration": 0.023802,
     "end_time": "2024-03-11T01:04:16.387689",
     "exception": false,
     "start_time": "2024-03-11T01:04:16.363887",
     "status": "completed"
    },
    "tags": []
   },
   "outputs": [],
   "source": [
    "X_test = df_test"
   ]
  },
  {
   "cell_type": "code",
   "execution_count": 28,
   "id": "42b8faa6",
   "metadata": {
    "execution": {
     "iopub.execute_input": "2024-03-11T01:04:16.420887Z",
     "iopub.status.busy": "2024-03-11T01:04:16.419012Z",
     "iopub.status.idle": "2024-03-11T01:04:16.426049Z",
     "shell.execute_reply": "2024-03-11T01:04:16.424946Z"
    },
    "papermill": {
     "duration": 0.025041,
     "end_time": "2024-03-11T01:04:16.428269",
     "exception": false,
     "start_time": "2024-03-11T01:04:16.403228",
     "status": "completed"
    },
    "tags": []
   },
   "outputs": [
    {
     "name": "stdout",
     "output_type": "stream",
     "text": [
      "Index(['PassengerId', 'Pclass', 'Sex', 'Age', 'SibSp', 'Parch', 'Fare',\n",
      "       'Embarked', 'Ticket_Group', 'Family_size', 'Age_group', 'Title_Capt',\n",
      "       'Title_Col', 'Title_Don', 'Title_Dr', 'Title_Jonkheer', 'Title_Lady',\n",
      "       'Title_Major', 'Title_Master', 'Title_Miss', 'Title_Mlle', 'Title_Mme',\n",
      "       'Title_Mr', 'Title_Mrs', 'Title_Ms', 'Title_Rev', 'Title_Sir',\n",
      "       'Title_the Countess'],\n",
      "      dtype='object')\n",
      "\n",
      "Index(['PassengerId', 'Pclass', 'Sex', 'Age', 'SibSp', 'Parch', 'Fare',\n",
      "       'Embarked', 'Ticket_Group', 'Family_size', 'Age_group', 'Title_Capt',\n",
      "       'Title_Col', 'Title_Don', 'Title_Dr', 'Title_Jonkheer', 'Title_Lady',\n",
      "       'Title_Major', 'Title_Master', 'Title_Miss', 'Title_Mlle', 'Title_Mme',\n",
      "       'Title_Mr', 'Title_Mrs', 'Title_Ms', 'Title_Rev', 'Title_Sir',\n",
      "       'Title_the Countess'],\n",
      "      dtype='object')\n"
     ]
    }
   ],
   "source": [
    "print(X_train.columns)\n",
    "print()\n",
    "print(X_test.columns)"
   ]
  },
  {
   "cell_type": "code",
   "execution_count": 29,
   "id": "2305546f",
   "metadata": {
    "execution": {
     "iopub.execute_input": "2024-03-11T01:04:16.459505Z",
     "iopub.status.busy": "2024-03-11T01:04:16.459095Z",
     "iopub.status.idle": "2024-03-11T01:04:16.463908Z",
     "shell.execute_reply": "2024-03-11T01:04:16.462570Z"
    },
    "papermill": {
     "duration": 0.022713,
     "end_time": "2024-03-11T01:04:16.465819",
     "exception": false,
     "start_time": "2024-03-11T01:04:16.443106",
     "status": "completed"
    },
    "tags": []
   },
   "outputs": [],
   "source": [
    "X_test = df_test"
   ]
  },
  {
   "cell_type": "code",
   "execution_count": 30,
   "id": "9d82777d",
   "metadata": {
    "execution": {
     "iopub.execute_input": "2024-03-11T01:04:16.497338Z",
     "iopub.status.busy": "2024-03-11T01:04:16.497029Z",
     "iopub.status.idle": "2024-03-11T01:04:16.516589Z",
     "shell.execute_reply": "2024-03-11T01:04:16.515207Z"
    },
    "papermill": {
     "duration": 0.037909,
     "end_time": "2024-03-11T01:04:16.519011",
     "exception": false,
     "start_time": "2024-03-11T01:04:16.481102",
     "status": "completed"
    },
    "tags": []
   },
   "outputs": [
    {
     "name": "stdout",
     "output_type": "stream",
     "text": [
      "CSV file created successfully.\n"
     ]
    }
   ],
   "source": [
    "# Make predictions on the test data\n",
    "y_pred_test = best_estimator.predict(X_test)\n",
    "\n",
    "submission_df = pd.DataFrame({\n",
    "    'PassengerId': X_test['PassengerId'],\n",
    "    'Survived': y_pred_test\n",
    "})\n",
    "\n",
    "# Save the DataFrame to a CSV file\n",
    "submission_df.to_csv('/kaggle/working/submission.csv', index=False)\n",
    "\n",
    "print(\"CSV file created successfully.\")"
   ]
  },
  {
   "cell_type": "code",
   "execution_count": null,
   "id": "0fdb98c5",
   "metadata": {
    "papermill": {
     "duration": 0.01445,
     "end_time": "2024-03-11T01:04:16.548431",
     "exception": false,
     "start_time": "2024-03-11T01:04:16.533981",
     "status": "completed"
    },
    "tags": []
   },
   "outputs": [],
   "source": []
  }
 ],
 "metadata": {
  "kaggle": {
   "accelerator": "none",
   "dataSources": [
    {
     "databundleVersionId": 26502,
     "sourceId": 3136,
     "sourceType": "competition"
    }
   ],
   "dockerImageVersionId": 30664,
   "isGpuEnabled": false,
   "isInternetEnabled": false,
   "language": "python",
   "sourceType": "notebook"
  },
  "kernelspec": {
   "display_name": "Python 3",
   "language": "python",
   "name": "python3"
  },
  "language_info": {
   "codemirror_mode": {
    "name": "ipython",
    "version": 3
   },
   "file_extension": ".py",
   "mimetype": "text/x-python",
   "name": "python",
   "nbconvert_exporter": "python",
   "pygments_lexer": "ipython3",
   "version": "3.10.13"
  },
  "papermill": {
   "default_parameters": {},
   "duration": 183.257894,
   "end_time": "2024-03-11T01:04:17.285604",
   "environment_variables": {},
   "exception": null,
   "input_path": "__notebook__.ipynb",
   "output_path": "__notebook__.ipynb",
   "parameters": {},
   "start_time": "2024-03-11T01:01:14.027710",
   "version": "2.5.0"
  }
 },
 "nbformat": 4,
 "nbformat_minor": 5
}
